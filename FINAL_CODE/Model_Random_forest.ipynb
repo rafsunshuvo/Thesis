{
  "nbformat": 4,
  "nbformat_minor": 0,
  "metadata": {
    "colab": {
      "name": "Model_Random_forest.ipynb",
      "provenance": [],
      "collapsed_sections": []
    },
    "kernelspec": {
      "name": "python3",
      "display_name": "Python 3"
    },
    "language_info": {
      "name": "python"
    }
  },
  "cells": [
    {
      "cell_type": "code",
      "metadata": {
        "id": "IE0BPl2VFYtP"
      },
      "source": [
        "import pandas as pd\n",
        "import zipfile\n",
        "import pickle\n",
        "import matplotlib.pyplot as plt\n",
        "import seaborn as sns\n",
        "%matplotlib inline \n",
        "\n",
        "from sklearn.model_selection import train_test_split\n",
        "from sklearn.feature_extraction.text import TfidfVectorizer\n",
        "from sklearn.datasets import load_digits\n",
        "digits = load_digits()\n",
        "\n",
        "\n",
        "from sklearn.ensemble import RandomForestClassifier\n",
        "\n",
        "from sklearn.metrics import confusion_matrix, classification_report"
      ],
      "execution_count": 1,
      "outputs": []
    },
    {
      "cell_type": "code",
      "metadata": {
        "colab": {
          "base_uri": "https://localhost:8080/"
        },
        "id": "flAbaCU6Ofl6",
        "outputId": "efb6970e-82aa-4f2b-e4a7-6b3bc24d11df"
      },
      "source": [
        "from google.colab import drive\n",
        "drive.mount(\"/content/drive\")"
      ],
      "execution_count": 2,
      "outputs": [
        {
          "output_type": "stream",
          "name": "stdout",
          "text": [
            "Mounted at /content/drive\n"
          ]
        }
      ]
    },
    {
      "cell_type": "code",
      "metadata": {
        "id": "o_97KGbkOuUM"
      },
      "source": [
        "z= zipfile.ZipFile(\"/content/drive/MyDrive/Colab Notebooks/YouTube-Spam-Collection-v1.zip\")\n",
        "Psy = pd.read_csv(z.open(\"Youtube01-Psy.csv\"))\n",
        "Katy = pd.read_csv(z.open(\"Youtube02-KatyPerry.csv\"))\n",
        "LMFAO = pd.read_csv(z.open(\"Youtube03-LMFAO.csv\"))\n",
        "Eminem = pd.read_csv(z.open(\"Youtube04-Eminem.csv\"))\n",
        "Shakira = pd.read_csv(z.open(\"Youtube05-Shakira.csv\"))"
      ],
      "execution_count": 4,
      "outputs": []
    },
    {
      "cell_type": "code",
      "metadata": {
        "colab": {
          "base_uri": "https://localhost:8080/"
        },
        "id": "rErzsZnZOwDH",
        "outputId": "7b661b1d-7a65-4d54-870e-f197df19770a"
      },
      "source": [
        "data = pd.concat([Psy, Katy, LMFAO, Eminem, Shakira])\n",
        "data.drop([\"COMMENT_ID\", \"DATE\", \"AUTHOR\"], axis=1, inplace=True)\n",
        "data.info()"
      ],
      "execution_count": 5,
      "outputs": [
        {
          "output_type": "stream",
          "name": "stdout",
          "text": [
            "<class 'pandas.core.frame.DataFrame'>\n",
            "Int64Index: 1956 entries, 0 to 369\n",
            "Data columns (total 2 columns):\n",
            " #   Column   Non-Null Count  Dtype \n",
            "---  ------   --------------  ----- \n",
            " 0   CONTENT  1956 non-null   object\n",
            " 1   CLASS    1956 non-null   int64 \n",
            "dtypes: int64(1), object(1)\n",
            "memory usage: 45.8+ KB\n"
          ]
        }
      ]
    },
    {
      "cell_type": "code",
      "metadata": {
        "id": "Ld_YquGSO24I"
      },
      "source": [
        "X_train, X_test, y_train, y_test = train_test_split(digits.data, digits.target, random_state=0)\n",
        "model= RandomForestClassifier(n_estimators=1000)\n",
        "model.fit(X_train, y_train)\n",
        "ypred= model.predict(X_test)"
      ],
      "execution_count": 6,
      "outputs": []
    },
    {
      "cell_type": "code",
      "metadata": {
        "colab": {
          "base_uri": "https://localhost:8080/"
        },
        "id": "hPUdvLlsQV3G",
        "outputId": "d26d187e-95fd-4ea1-a5cd-968bce37ec6d"
      },
      "source": [
        "\n",
        "print(classification_report(ypred, y_test))"
      ],
      "execution_count": 7,
      "outputs": [
        {
          "output_type": "stream",
          "name": "stdout",
          "text": [
            "              precision    recall  f1-score   support\n",
            "\n",
            "           0       1.00      0.97      0.99        38\n",
            "           1       0.98      0.98      0.98        43\n",
            "           2       0.95      1.00      0.98        42\n",
            "           3       0.98      0.96      0.97        46\n",
            "           4       0.97      1.00      0.99        37\n",
            "           5       0.98      0.96      0.97        49\n",
            "           6       1.00      1.00      1.00        52\n",
            "           7       1.00      0.96      0.98        50\n",
            "           8       0.94      0.98      0.96        46\n",
            "           9       0.98      0.98      0.98        47\n",
            "\n",
            "    accuracy                           0.98       450\n",
            "   macro avg       0.98      0.98      0.98       450\n",
            "weighted avg       0.98      0.98      0.98       450\n",
            "\n"
          ]
        }
      ]
    },
    {
      "cell_type": "code",
      "metadata": {
        "colab": {
          "base_uri": "https://localhost:8080/"
        },
        "id": "y7pDrH35Q00K",
        "outputId": "919ee1c7-27d2-4385-8c81-7eb2790ba1ca"
      },
      "source": [
        "ypred= model.predict(X_test[3:4])\n",
        "ypred"
      ],
      "execution_count": 8,
      "outputs": [
        {
          "output_type": "execute_result",
          "data": {
            "text/plain": [
              "array([6])"
            ]
          },
          "metadata": {},
          "execution_count": 8
        }
      ]
    },
    {
      "cell_type": "code",
      "metadata": {
        "colab": {
          "base_uri": "https://localhost:8080/"
        },
        "id": "huOtLjg3V9Hq",
        "outputId": "e151a418-e1c8-4fa3-d52a-353c752daa6c"
      },
      "source": [
        "\n",
        "model.score(X_test, y_test)"
      ],
      "execution_count": 9,
      "outputs": [
        {
          "output_type": "execute_result",
          "data": {
            "text/plain": [
              "0.9777777777777777"
            ]
          },
          "metadata": {},
          "execution_count": 9
        }
      ]
    },
    {
      "cell_type": "code",
      "metadata": {
        "id": "YJ1EeyltZmEX"
      },
      "source": [
        ""
      ],
      "execution_count": null,
      "outputs": []
    }
  ]
}