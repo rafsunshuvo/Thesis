{
  "nbformat": 4,
  "nbformat_minor": 0,
  "metadata": {
    "colab": {
      "name": "Model_CNN.ipynb",
      "provenance": [],
      "collapsed_sections": []
    },
    "kernelspec": {
      "name": "python3",
      "display_name": "Python 3"
    },
    "language_info": {
      "name": "python"
    }
  },
  "cells": [
    {
      "cell_type": "code",
      "metadata": {
        "id": "_hZlU5jk_wZS"
      },
      "source": [
        "import numpy as np\n",
        "import pandas as pd\n",
        "import tensorflow as tf\n",
        "from keras.models import Sequential\n",
        "from time import time\n",
        "from sklearn.model_selection import train_test_split as sp\n",
        "from sklearn.feature_extraction.text import CountVectorizer as vecto\n",
        "from tensorflow import keras\n",
        "from sklearn.metrics import confusion_matrix\n",
        "import zipfile"
      ],
      "execution_count": 39,
      "outputs": []
    },
    {
      "cell_type": "code",
      "metadata": {
        "id": "tWiMawu8AGM5"
      },
      "source": [
        "from keras import preprocessing\n"
      ],
      "execution_count": 40,
      "outputs": []
    },
    {
      "cell_type": "markdown",
      "metadata": {
        "id": "7S3HZVy3AL-Q"
      },
      "source": [
        "#DATA PREPROCESSING"
      ]
    },
    {
      "cell_type": "code",
      "metadata": {
        "colab": {
          "base_uri": "https://localhost:8080/"
        },
        "id": "iS3cJ1_nAhwx",
        "outputId": "97f368cd-08b0-4077-cab6-97bd2005d7f6"
      },
      "source": [
        "from google.colab import drive\n",
        "drive.mount(\"/content/drive\")"
      ],
      "execution_count": 41,
      "outputs": [
        {
          "output_type": "stream",
          "name": "stdout",
          "text": [
            "Drive already mounted at /content/drive; to attempt to forcibly remount, call drive.mount(\"/content/drive\", force_remount=True).\n"
          ]
        }
      ]
    },
    {
      "cell_type": "code",
      "metadata": {
        "colab": {
          "base_uri": "https://localhost:8080/",
          "height": 580
        },
        "id": "-MNq_6oZAQHq",
        "outputId": "31bfb9fc-649d-4514-c181-8d80e0d937ee"
      },
      "source": [
        "#z='/content/drive/MyDrive/Colab Notebooks/YouTube-Spam-Collection-v1 (1)'\n",
        "z= zipfile.ZipFile(\"/content/drive/MyDrive/Colab Notebooks/YouTube-Spam-Collection-v1.zip\")\n",
        "Psy=pd.read_csv(z.open(\"Youtube01-Psy.csv\"))\n",
        "KatyPerry  =pd.read_csv(z.open(\"Youtube02-KatyPerry.csv\"))\n",
        "LMFAQ =pd.read_csv(z.open(\"Youtube03-LMFAO.csv\"))\n",
        "Eminem =pd.read_csv(z.open(\"Youtube04-Eminem.csv\"))\n",
        "Shakira =pd.read_csv(z.open(\"Youtube05-Shakira.csv\"))\n",
        "frames = [Psy,LMFAQ,Eminem,Shakira,KatyPerry]\n",
        "result = pd.concat(frames)\n",
        "result.head(10)"
      ],
      "execution_count": 42,
      "outputs": [
        {
          "output_type": "execute_result",
          "data": {
            "text/html": [
              "\n",
              "  <div id=\"df-15c75b11-3018-462a-8ff1-558faeab6808\">\n",
              "    <div class=\"colab-df-container\">\n",
              "      <div>\n",
              "<style scoped>\n",
              "    .dataframe tbody tr th:only-of-type {\n",
              "        vertical-align: middle;\n",
              "    }\n",
              "\n",
              "    .dataframe tbody tr th {\n",
              "        vertical-align: top;\n",
              "    }\n",
              "\n",
              "    .dataframe thead th {\n",
              "        text-align: right;\n",
              "    }\n",
              "</style>\n",
              "<table border=\"1\" class=\"dataframe\">\n",
              "  <thead>\n",
              "    <tr style=\"text-align: right;\">\n",
              "      <th></th>\n",
              "      <th>COMMENT_ID</th>\n",
              "      <th>AUTHOR</th>\n",
              "      <th>DATE</th>\n",
              "      <th>CONTENT</th>\n",
              "      <th>CLASS</th>\n",
              "    </tr>\n",
              "  </thead>\n",
              "  <tbody>\n",
              "    <tr>\n",
              "      <th>0</th>\n",
              "      <td>LZQPQhLyRh80UYxNuaDWhIGQYNQ96IuCg-AYWqNPjpU</td>\n",
              "      <td>Julius NM</td>\n",
              "      <td>2013-11-07T06:20:48</td>\n",
              "      <td>Huh, anyway check out this you[tube] channel: ...</td>\n",
              "      <td>1</td>\n",
              "    </tr>\n",
              "    <tr>\n",
              "      <th>1</th>\n",
              "      <td>LZQPQhLyRh_C2cTtd9MvFRJedxydaVW-2sNg5Diuo4A</td>\n",
              "      <td>adam riyati</td>\n",
              "      <td>2013-11-07T12:37:15</td>\n",
              "      <td>Hey guys check out my new channel and our firs...</td>\n",
              "      <td>1</td>\n",
              "    </tr>\n",
              "    <tr>\n",
              "      <th>2</th>\n",
              "      <td>LZQPQhLyRh9MSZYnf8djyk0gEF9BHDPYrrK-qCczIY8</td>\n",
              "      <td>Evgeny Murashkin</td>\n",
              "      <td>2013-11-08T17:34:21</td>\n",
              "      <td>just for test I have to say murdev.com</td>\n",
              "      <td>1</td>\n",
              "    </tr>\n",
              "    <tr>\n",
              "      <th>3</th>\n",
              "      <td>z13jhp0bxqncu512g22wvzkasxmvvzjaz04</td>\n",
              "      <td>ElNino Melendez</td>\n",
              "      <td>2013-11-09T08:28:43</td>\n",
              "      <td>me shaking my sexy ass on my channel enjoy ^_^ ﻿</td>\n",
              "      <td>1</td>\n",
              "    </tr>\n",
              "    <tr>\n",
              "      <th>4</th>\n",
              "      <td>z13fwbwp1oujthgqj04chlngpvzmtt3r3dw</td>\n",
              "      <td>GsMega</td>\n",
              "      <td>2013-11-10T16:05:38</td>\n",
              "      <td>watch?v=vtaRGgvGtWQ   Check this out .﻿</td>\n",
              "      <td>1</td>\n",
              "    </tr>\n",
              "    <tr>\n",
              "      <th>5</th>\n",
              "      <td>LZQPQhLyRh9-wNRtlZDM90f1k0BrdVdJyN_YsaSwfxc</td>\n",
              "      <td>Jason Haddad</td>\n",
              "      <td>2013-11-26T02:55:11</td>\n",
              "      <td>Hey, check out my new website!! This site is a...</td>\n",
              "      <td>1</td>\n",
              "    </tr>\n",
              "    <tr>\n",
              "      <th>6</th>\n",
              "      <td>z13lfzdo5vmdi1cm123te5uz2mqig1brz04</td>\n",
              "      <td>ferleck ferles</td>\n",
              "      <td>2013-11-27T21:39:24</td>\n",
              "      <td>Subscribe to my channel ﻿</td>\n",
              "      <td>1</td>\n",
              "    </tr>\n",
              "    <tr>\n",
              "      <th>7</th>\n",
              "      <td>z122wfnzgt30fhubn04cdn3xfx2mxzngsl40k</td>\n",
              "      <td>Bob Kanowski</td>\n",
              "      <td>2013-11-28T12:33:27</td>\n",
              "      <td>i turned it on mute as soon is i came on i jus...</td>\n",
              "      <td>0</td>\n",
              "    </tr>\n",
              "    <tr>\n",
              "      <th>8</th>\n",
              "      <td>z13ttt1jcraqexk2o234ghbgzxymz1zzi04</td>\n",
              "      <td>Cony</td>\n",
              "      <td>2013-11-28T16:01:47</td>\n",
              "      <td>You should check my channel for Funny VIDEOS!!﻿</td>\n",
              "      <td>1</td>\n",
              "    </tr>\n",
              "    <tr>\n",
              "      <th>9</th>\n",
              "      <td>z12avveb4xqiirsix04chxviiljryduwxg0</td>\n",
              "      <td>BeBe Burkey</td>\n",
              "      <td>2013-11-28T16:30:13</td>\n",
              "      <td>and u should.d check my channel and tell me wh...</td>\n",
              "      <td>1</td>\n",
              "    </tr>\n",
              "  </tbody>\n",
              "</table>\n",
              "</div>\n",
              "      <button class=\"colab-df-convert\" onclick=\"convertToInteractive('df-15c75b11-3018-462a-8ff1-558faeab6808')\"\n",
              "              title=\"Convert this dataframe to an interactive table.\"\n",
              "              style=\"display:none;\">\n",
              "        \n",
              "  <svg xmlns=\"http://www.w3.org/2000/svg\" height=\"24px\"viewBox=\"0 0 24 24\"\n",
              "       width=\"24px\">\n",
              "    <path d=\"M0 0h24v24H0V0z\" fill=\"none\"/>\n",
              "    <path d=\"M18.56 5.44l.94 2.06.94-2.06 2.06-.94-2.06-.94-.94-2.06-.94 2.06-2.06.94zm-11 1L8.5 8.5l.94-2.06 2.06-.94-2.06-.94L8.5 2.5l-.94 2.06-2.06.94zm10 10l.94 2.06.94-2.06 2.06-.94-2.06-.94-.94-2.06-.94 2.06-2.06.94z\"/><path d=\"M17.41 7.96l-1.37-1.37c-.4-.4-.92-.59-1.43-.59-.52 0-1.04.2-1.43.59L10.3 9.45l-7.72 7.72c-.78.78-.78 2.05 0 2.83L4 21.41c.39.39.9.59 1.41.59.51 0 1.02-.2 1.41-.59l7.78-7.78 2.81-2.81c.8-.78.8-2.07 0-2.86zM5.41 20L4 18.59l7.72-7.72 1.47 1.35L5.41 20z\"/>\n",
              "  </svg>\n",
              "      </button>\n",
              "      \n",
              "  <style>\n",
              "    .colab-df-container {\n",
              "      display:flex;\n",
              "      flex-wrap:wrap;\n",
              "      gap: 12px;\n",
              "    }\n",
              "\n",
              "    .colab-df-convert {\n",
              "      background-color: #E8F0FE;\n",
              "      border: none;\n",
              "      border-radius: 50%;\n",
              "      cursor: pointer;\n",
              "      display: none;\n",
              "      fill: #1967D2;\n",
              "      height: 32px;\n",
              "      padding: 0 0 0 0;\n",
              "      width: 32px;\n",
              "    }\n",
              "\n",
              "    .colab-df-convert:hover {\n",
              "      background-color: #E2EBFA;\n",
              "      box-shadow: 0px 1px 2px rgba(60, 64, 67, 0.3), 0px 1px 3px 1px rgba(60, 64, 67, 0.15);\n",
              "      fill: #174EA6;\n",
              "    }\n",
              "\n",
              "    [theme=dark] .colab-df-convert {\n",
              "      background-color: #3B4455;\n",
              "      fill: #D2E3FC;\n",
              "    }\n",
              "\n",
              "    [theme=dark] .colab-df-convert:hover {\n",
              "      background-color: #434B5C;\n",
              "      box-shadow: 0px 1px 3px 1px rgba(0, 0, 0, 0.15);\n",
              "      filter: drop-shadow(0px 1px 2px rgba(0, 0, 0, 0.3));\n",
              "      fill: #FFFFFF;\n",
              "    }\n",
              "  </style>\n",
              "\n",
              "      <script>\n",
              "        const buttonEl =\n",
              "          document.querySelector('#df-15c75b11-3018-462a-8ff1-558faeab6808 button.colab-df-convert');\n",
              "        buttonEl.style.display =\n",
              "          google.colab.kernel.accessAllowed ? 'block' : 'none';\n",
              "\n",
              "        async function convertToInteractive(key) {\n",
              "          const element = document.querySelector('#df-15c75b11-3018-462a-8ff1-558faeab6808');\n",
              "          const dataTable =\n",
              "            await google.colab.kernel.invokeFunction('convertToInteractive',\n",
              "                                                     [key], {});\n",
              "          if (!dataTable) return;\n",
              "\n",
              "          const docLinkHtml = 'Like what you see? Visit the ' +\n",
              "            '<a target=\"_blank\" href=https://colab.research.google.com/notebooks/data_table.ipynb>data table notebook</a>'\n",
              "            + ' to learn more about interactive tables.';\n",
              "          element.innerHTML = '';\n",
              "          dataTable['output_type'] = 'display_data';\n",
              "          await google.colab.output.renderOutput(dataTable, element);\n",
              "          const docLink = document.createElement('div');\n",
              "          docLink.innerHTML = docLinkHtml;\n",
              "          element.appendChild(docLink);\n",
              "        }\n",
              "      </script>\n",
              "    </div>\n",
              "  </div>\n",
              "  "
            ],
            "text/plain": [
              "                                    COMMENT_ID  ... CLASS\n",
              "0  LZQPQhLyRh80UYxNuaDWhIGQYNQ96IuCg-AYWqNPjpU  ...     1\n",
              "1  LZQPQhLyRh_C2cTtd9MvFRJedxydaVW-2sNg5Diuo4A  ...     1\n",
              "2  LZQPQhLyRh9MSZYnf8djyk0gEF9BHDPYrrK-qCczIY8  ...     1\n",
              "3          z13jhp0bxqncu512g22wvzkasxmvvzjaz04  ...     1\n",
              "4          z13fwbwp1oujthgqj04chlngpvzmtt3r3dw  ...     1\n",
              "5  LZQPQhLyRh9-wNRtlZDM90f1k0BrdVdJyN_YsaSwfxc  ...     1\n",
              "6          z13lfzdo5vmdi1cm123te5uz2mqig1brz04  ...     1\n",
              "7        z122wfnzgt30fhubn04cdn3xfx2mxzngsl40k  ...     0\n",
              "8          z13ttt1jcraqexk2o234ghbgzxymz1zzi04  ...     1\n",
              "9          z12avveb4xqiirsix04chxviiljryduwxg0  ...     1\n",
              "\n",
              "[10 rows x 5 columns]"
            ]
          },
          "metadata": {},
          "execution_count": 42
        }
      ]
    },
    {
      "cell_type": "code",
      "source": [
        ""
      ],
      "metadata": {
        "id": "qxT5AFnWjpKl"
      },
      "execution_count": 42,
      "outputs": []
    },
    {
      "cell_type": "code",
      "execution_count": 43,
      "metadata": {
        "colab": {
          "base_uri": "https://localhost:8080/"
        },
        "id": "RBBSTwETR9IN",
        "outputId": "2a2d1fb5-add2-42db-9bcd-3a29c2517d44"
      },
      "outputs": [
        {
          "output_type": "execute_result",
          "data": {
            "text/plain": [
              "1    1005\n",
              "0     951\n",
              "Name: CLASS, dtype: int64"
            ]
          },
          "metadata": {},
          "execution_count": 43
        }
      ],
      "source": [
        "result ['CLASS'].value_counts()"
      ]
    },
    {
      "cell_type": "code",
      "source": [
        "import seaborn as sns\n",
        "from matplotlib import pyplot as plt"
      ],
      "metadata": {
        "id": "UyvVKuhkQJ0M"
      },
      "execution_count": 44,
      "outputs": []
    },
    {
      "cell_type": "code",
      "source": [
        "sns.set(style = \"darkgrid\" , font_scale = 1.2)\n",
        "sns.countplot(result.CLASS).set_title(\"Number of ham and spam messages\")\n",
        "plt.show()"
      ],
      "metadata": {
        "colab": {
          "base_uri": "https://localhost:8080/",
          "height": 361
        },
        "id": "DMiGUfp1P-cE",
        "outputId": "7640b957-c316-4fe0-f360-bda01bf844a2"
      },
      "execution_count": 45,
      "outputs": [
        {
          "output_type": "stream",
          "name": "stderr",
          "text": [
            "/usr/local/lib/python3.7/dist-packages/seaborn/_decorators.py:43: FutureWarning: Pass the following variable as a keyword arg: x. From version 0.12, the only valid positional argument will be `data`, and passing other arguments without an explicit keyword will result in an error or misinterpretation.\n",
            "  FutureWarning\n"
          ]
        },
        {
          "output_type": "display_data",
          "data": {
            "image/png": "[encoded data removed]",
            "text/plain": [
              "<Figure size 432x288 with 1 Axes>"
            ]
          },
          "metadata": {}
        }
      ]
    },
    {
      "cell_type": "code",
      "source": [
        "result.describe()"
      ],
      "metadata": {
        "colab": {
          "base_uri": "https://localhost:8080/",
          "height": 300
        },
        "id": "CAtBp9nxQS5O",
        "outputId": "c4d56251-2a46-4421-9f72-9419ac527be6"
      },
      "execution_count": 46,
      "outputs": [
        {
          "output_type": "execute_result",
          "data": {
            "text/html": [
              "\n",
              "  <div id=\"df-54b7cbd5-dd3c-4975-8223-29f3eea9c690\">\n",
              "    <div class=\"colab-df-container\">\n",
              "      <div>\n",
              "<style scoped>\n",
              "    .dataframe tbody tr th:only-of-type {\n",
              "        vertical-align: middle;\n",
              "    }\n",
              "\n",
              "    .dataframe tbody tr th {\n",
              "        vertical-align: top;\n",
              "    }\n",
              "\n",
              "    .dataframe thead th {\n",
              "        text-align: right;\n",
              "    }\n",
              "</style>\n",
              "<table border=\"1\" class=\"dataframe\">\n",
              "  <thead>\n",
              "    <tr style=\"text-align: right;\">\n",
              "      <th></th>\n",
              "      <th>CLASS</th>\n",
              "    </tr>\n",
              "  </thead>\n",
              "  <tbody>\n",
              "    <tr>\n",
              "      <th>count</th>\n",
              "      <td>1956.000000</td>\n",
              "    </tr>\n",
              "    <tr>\n",
              "      <th>mean</th>\n",
              "      <td>0.513804</td>\n",
              "    </tr>\n",
              "    <tr>\n",
              "      <th>std</th>\n",
              "      <td>0.499937</td>\n",
              "    </tr>\n",
              "    <tr>\n",
              "      <th>min</th>\n",
              "      <td>0.000000</td>\n",
              "    </tr>\n",
              "    <tr>\n",
              "      <th>25%</th>\n",
              "      <td>0.000000</td>\n",
              "    </tr>\n",
              "    <tr>\n",
              "      <th>50%</th>\n",
              "      <td>1.000000</td>\n",
              "    </tr>\n",
              "    <tr>\n",
              "      <th>75%</th>\n",
              "      <td>1.000000</td>\n",
              "    </tr>\n",
              "    <tr>\n",
              "      <th>max</th>\n",
              "      <td>1.000000</td>\n",
              "    </tr>\n",
              "  </tbody>\n",
              "</table>\n",
              "</div>\n",
              "      <button class=\"colab-df-convert\" onclick=\"convertToInteractive('df-54b7cbd5-dd3c-4975-8223-29f3eea9c690')\"\n",
              "              title=\"Convert this dataframe to an interactive table.\"\n",
              "              style=\"display:none;\">\n",
              "        \n",
              "  <svg xmlns=\"http://www.w3.org/2000/svg\" height=\"24px\"viewBox=\"0 0 24 24\"\n",
              "       width=\"24px\">\n",
              "    <path d=\"M0 0h24v24H0V0z\" fill=\"none\"/>\n",
              "    <path d=\"M18.56 5.44l.94 2.06.94-2.06 2.06-.94-2.06-.94-.94-2.06-.94 2.06-2.06.94zm-11 1L8.5 8.5l.94-2.06 2.06-.94-2.06-.94L8.5 2.5l-.94 2.06-2.06.94zm10 10l.94 2.06.94-2.06 2.06-.94-2.06-.94-.94-2.06-.94 2.06-2.06.94z\"/><path d=\"M17.41 7.96l-1.37-1.37c-.4-.4-.92-.59-1.43-.59-.52 0-1.04.2-1.43.59L10.3 9.45l-7.72 7.72c-.78.78-.78 2.05 0 2.83L4 21.41c.39.39.9.59 1.41.59.51 0 1.02-.2 1.41-.59l7.78-7.78 2.81-2.81c.8-.78.8-2.07 0-2.86zM5.41 20L4 18.59l7.72-7.72 1.47 1.35L5.41 20z\"/>\n",
              "  </svg>\n",
              "      </button>\n",
              "      \n",
              "  <style>\n",
              "    .colab-df-container {\n",
              "      display:flex;\n",
              "      flex-wrap:wrap;\n",
              "      gap: 12px;\n",
              "    }\n",
              "\n",
              "    .colab-df-convert {\n",
              "      background-color: #E8F0FE;\n",
              "      border: none;\n",
              "      border-radius: 50%;\n",
              "      cursor: pointer;\n",
              "      display: none;\n",
              "      fill: #1967D2;\n",
              "      height: 32px;\n",
              "      padding: 0 0 0 0;\n",
              "      width: 32px;\n",
              "    }\n",
              "\n",
              "    .colab-df-convert:hover {\n",
              "      background-color: #E2EBFA;\n",
              "      box-shadow: 0px 1px 2px rgba(60, 64, 67, 0.3), 0px 1px 3px 1px rgba(60, 64, 67, 0.15);\n",
              "      fill: #174EA6;\n",
              "    }\n",
              "\n",
              "    [theme=dark] .colab-df-convert {\n",
              "      background-color: #3B4455;\n",
              "      fill: #D2E3FC;\n",
              "    }\n",
              "\n",
              "    [theme=dark] .colab-df-convert:hover {\n",
              "      background-color: #434B5C;\n",
              "      box-shadow: 0px 1px 3px 1px rgba(0, 0, 0, 0.15);\n",
              "      filter: drop-shadow(0px 1px 2px rgba(0, 0, 0, 0.3));\n",
              "      fill: #FFFFFF;\n",
              "    }\n",
              "  </style>\n",
              "\n",
              "      <script>\n",
              "        const buttonEl =\n",
              "          document.querySelector('#df-54b7cbd5-dd3c-4975-8223-29f3eea9c690 button.colab-df-convert');\n",
              "        buttonEl.style.display =\n",
              "          google.colab.kernel.accessAllowed ? 'block' : 'none';\n",
              "\n",
              "        async function convertToInteractive(key) {\n",
              "          const element = document.querySelector('#df-54b7cbd5-dd3c-4975-8223-29f3eea9c690');\n",
              "          const dataTable =\n",
              "            await google.colab.kernel.invokeFunction('convertToInteractive',\n",
              "                                                     [key], {});\n",
              "          if (!dataTable) return;\n",
              "\n",
              "          const docLinkHtml = 'Like what you see? Visit the ' +\n",
              "            '<a target=\"_blank\" href=https://colab.research.google.com/notebooks/data_table.ipynb>data table notebook</a>'\n",
              "            + ' to learn more about interactive tables.';\n",
              "          element.innerHTML = '';\n",
              "          dataTable['output_type'] = 'display_data';\n",
              "          await google.colab.output.renderOutput(dataTable, element);\n",
              "          const docLink = document.createElement('div');\n",
              "          docLink.innerHTML = docLinkHtml;\n",
              "          element.appendChild(docLink);\n",
              "        }\n",
              "      </script>\n",
              "    </div>\n",
              "  </div>\n",
              "  "
            ],
            "text/plain": [
              "             CLASS\n",
              "count  1956.000000\n",
              "mean      0.513804\n",
              "std       0.499937\n",
              "min       0.000000\n",
              "25%       0.000000\n",
              "50%       1.000000\n",
              "75%       1.000000\n",
              "max       1.000000"
            ]
          },
          "metadata": {},
          "execution_count": 46
        }
      ]
    },
    {
      "cell_type": "code",
      "source": [
        "sms = pd.value_counts(result[\"CLASS\"], sort=True)\n",
        "sms.plot(kind=\"pie\", labels=[\"Spam,\", \"ham\"], autopct=\"%1.0f%%\")\n",
        "\n",
        "plt.title(\"Comment Distribution\")\n",
        "plt.ylabel(\"\")\n",
        "plt.show()"
      ],
      "metadata": {
        "colab": {
          "base_uri": "https://localhost:8080/",
          "height": 265
        },
        "id": "jD1twTe1QYVL",
        "outputId": "a9576887-b190-45ca-8f5b-e3b5a67f0562"
      },
      "execution_count": 47,
      "outputs": [
        {
          "output_type": "display_data",
          "data": {
            "image/png": "[encoded data removed]",
            "text/plain": [
              "<Figure size 432x288 with 1 Axes>"
            ]
          },
          "metadata": {}
        }
      ]
    },
    {
      "cell_type": "code",
      "source": [
        "result['length'] = result.CONTENT.apply(len)\n",
        "result.head()"
      ],
      "metadata": {
        "colab": {
          "base_uri": "https://localhost:8080/",
          "height": 337
        },
        "id": "p23npepKRC6N",
        "outputId": "7bd00baf-81c6-43f6-c9e3-9850d7db61b5"
      },
      "execution_count": 48,
      "outputs": [
        {
          "output_type": "execute_result",
          "data": {
            "text/html": [
              "\n",
              "  <div id=\"df-2ec8736a-49cc-4968-a815-fda6f5de22a7\">\n",
              "    <div class=\"colab-df-container\">\n",
              "      <div>\n",
              "<style scoped>\n",
              "    .dataframe tbody tr th:only-of-type {\n",
              "        vertical-align: middle;\n",
              "    }\n",
              "\n",
              "    .dataframe tbody tr th {\n",
              "        vertical-align: top;\n",
              "    }\n",
              "\n",
              "    .dataframe thead th {\n",
              "        text-align: right;\n",
              "    }\n",
              "</style>\n",
              "<table border=\"1\" class=\"dataframe\">\n",
              "  <thead>\n",
              "    <tr style=\"text-align: right;\">\n",
              "      <th></th>\n",
              "      <th>COMMENT_ID</th>\n",
              "      <th>AUTHOR</th>\n",
              "      <th>DATE</th>\n",
              "      <th>CONTENT</th>\n",
              "      <th>CLASS</th>\n",
              "      <th>length</th>\n",
              "    </tr>\n",
              "  </thead>\n",
              "  <tbody>\n",
              "    <tr>\n",
              "      <th>0</th>\n",
              "      <td>LZQPQhLyRh80UYxNuaDWhIGQYNQ96IuCg-AYWqNPjpU</td>\n",
              "      <td>Julius NM</td>\n",
              "      <td>2013-11-07T06:20:48</td>\n",
              "      <td>Huh, anyway check out this you[tube] channel: ...</td>\n",
              "      <td>1</td>\n",
              "      <td>56</td>\n",
              "    </tr>\n",
              "    <tr>\n",
              "      <th>1</th>\n",
              "      <td>LZQPQhLyRh_C2cTtd9MvFRJedxydaVW-2sNg5Diuo4A</td>\n",
              "      <td>adam riyati</td>\n",
              "      <td>2013-11-07T12:37:15</td>\n",
              "      <td>Hey guys check out my new channel and our firs...</td>\n",
              "      <td>1</td>\n",
              "      <td>166</td>\n",
              "    </tr>\n",
              "    <tr>\n",
              "      <th>2</th>\n",
              "      <td>LZQPQhLyRh9MSZYnf8djyk0gEF9BHDPYrrK-qCczIY8</td>\n",
              "      <td>Evgeny Murashkin</td>\n",
              "      <td>2013-11-08T17:34:21</td>\n",
              "      <td>just for test I have to say murdev.com</td>\n",
              "      <td>1</td>\n",
              "      <td>38</td>\n",
              "    </tr>\n",
              "    <tr>\n",
              "      <th>3</th>\n",
              "      <td>z13jhp0bxqncu512g22wvzkasxmvvzjaz04</td>\n",
              "      <td>ElNino Melendez</td>\n",
              "      <td>2013-11-09T08:28:43</td>\n",
              "      <td>me shaking my sexy ass on my channel enjoy ^_^ ﻿</td>\n",
              "      <td>1</td>\n",
              "      <td>48</td>\n",
              "    </tr>\n",
              "    <tr>\n",
              "      <th>4</th>\n",
              "      <td>z13fwbwp1oujthgqj04chlngpvzmtt3r3dw</td>\n",
              "      <td>GsMega</td>\n",
              "      <td>2013-11-10T16:05:38</td>\n",
              "      <td>watch?v=vtaRGgvGtWQ   Check this out .﻿</td>\n",
              "      <td>1</td>\n",
              "      <td>39</td>\n",
              "    </tr>\n",
              "  </tbody>\n",
              "</table>\n",
              "</div>\n",
              "      <button class=\"colab-df-convert\" onclick=\"convertToInteractive('df-2ec8736a-49cc-4968-a815-fda6f5de22a7')\"\n",
              "              title=\"Convert this dataframe to an interactive table.\"\n",
              "              style=\"display:none;\">\n",
              "        \n",
              "  <svg xmlns=\"http://www.w3.org/2000/svg\" height=\"24px\"viewBox=\"0 0 24 24\"\n",
              "       width=\"24px\">\n",
              "    <path d=\"M0 0h24v24H0V0z\" fill=\"none\"/>\n",
              "    <path d=\"M18.56 5.44l.94 2.06.94-2.06 2.06-.94-2.06-.94-.94-2.06-.94 2.06-2.06.94zm-11 1L8.5 8.5l.94-2.06 2.06-.94-2.06-.94L8.5 2.5l-.94 2.06-2.06.94zm10 10l.94 2.06.94-2.06 2.06-.94-2.06-.94-.94-2.06-.94 2.06-2.06.94z\"/><path d=\"M17.41 7.96l-1.37-1.37c-.4-.4-.92-.59-1.43-.59-.52 0-1.04.2-1.43.59L10.3 9.45l-7.72 7.72c-.78.78-.78 2.05 0 2.83L4 21.41c.39.39.9.59 1.41.59.51 0 1.02-.2 1.41-.59l7.78-7.78 2.81-2.81c.8-.78.8-2.07 0-2.86zM5.41 20L4 18.59l7.72-7.72 1.47 1.35L5.41 20z\"/>\n",
              "  </svg>\n",
              "      </button>\n",
              "      \n",
              "  <style>\n",
              "    .colab-df-container {\n",
              "      display:flex;\n",
              "      flex-wrap:wrap;\n",
              "      gap: 12px;\n",
              "    }\n",
              "\n",
              "    .colab-df-convert {\n",
              "      background-color: #E8F0FE;\n",
              "      border: none;\n",
              "      border-radius: 50%;\n",
              "      cursor: pointer;\n",
              "      display: none;\n",
              "      fill: #1967D2;\n",
              "      height: 32px;\n",
              "      padding: 0 0 0 0;\n",
              "      width: 32px;\n",
              "    }\n",
              "\n",
              "    .colab-df-convert:hover {\n",
              "      background-color: #E2EBFA;\n",
              "      box-shadow: 0px 1px 2px rgba(60, 64, 67, 0.3), 0px 1px 3px 1px rgba(60, 64, 67, 0.15);\n",
              "      fill: #174EA6;\n",
              "    }\n",
              "\n",
              "    [theme=dark] .colab-df-convert {\n",
              "      background-color: #3B4455;\n",
              "      fill: #D2E3FC;\n",
              "    }\n",
              "\n",
              "    [theme=dark] .colab-df-convert:hover {\n",
              "      background-color: #434B5C;\n",
              "      box-shadow: 0px 1px 3px 1px rgba(0, 0, 0, 0.15);\n",
              "      filter: drop-shadow(0px 1px 2px rgba(0, 0, 0, 0.3));\n",
              "      fill: #FFFFFF;\n",
              "    }\n",
              "  </style>\n",
              "\n",
              "      <script>\n",
              "        const buttonEl =\n",
              "          document.querySelector('#df-2ec8736a-49cc-4968-a815-fda6f5de22a7 button.colab-df-convert');\n",
              "        buttonEl.style.display =\n",
              "          google.colab.kernel.accessAllowed ? 'block' : 'none';\n",
              "\n",
              "        async function convertToInteractive(key) {\n",
              "          const element = document.querySelector('#df-2ec8736a-49cc-4968-a815-fda6f5de22a7');\n",
              "          const dataTable =\n",
              "            await google.colab.kernel.invokeFunction('convertToInteractive',\n",
              "                                                     [key], {});\n",
              "          if (!dataTable) return;\n",
              "\n",
              "          const docLinkHtml = 'Like what you see? Visit the ' +\n",
              "            '<a target=\"_blank\" href=https://colab.research.google.com/notebooks/data_table.ipynb>data table notebook</a>'\n",
              "            + ' to learn more about interactive tables.';\n",
              "          element.innerHTML = '';\n",
              "          dataTable['output_type'] = 'display_data';\n",
              "          await google.colab.output.renderOutput(dataTable, element);\n",
              "          const docLink = document.createElement('div');\n",
              "          docLink.innerHTML = docLinkHtml;\n",
              "          element.appendChild(docLink);\n",
              "        }\n",
              "      </script>\n",
              "    </div>\n",
              "  </div>\n",
              "  "
            ],
            "text/plain": [
              "                                    COMMENT_ID            AUTHOR  ... CLASS length\n",
              "0  LZQPQhLyRh80UYxNuaDWhIGQYNQ96IuCg-AYWqNPjpU         Julius NM  ...     1     56\n",
              "1  LZQPQhLyRh_C2cTtd9MvFRJedxydaVW-2sNg5Diuo4A       adam riyati  ...     1    166\n",
              "2  LZQPQhLyRh9MSZYnf8djyk0gEF9BHDPYrrK-qCczIY8  Evgeny Murashkin  ...     1     38\n",
              "3          z13jhp0bxqncu512g22wvzkasxmvvzjaz04   ElNino Melendez  ...     1     48\n",
              "4          z13fwbwp1oujthgqj04chlngpvzmtt3r3dw            GsMega  ...     1     39\n",
              "\n",
              "[5 rows x 6 columns]"
            ]
          },
          "metadata": {},
          "execution_count": 48
        }
      ]
    },
    {
      "cell_type": "code",
      "source": [
        "plt.figure(figsize=(8, 5))\n",
        "result[result.CLASS == 0].length.plot(bins=35, kind='hist', color='blue', label='Ham', alpha=0.6)\n",
        "result[result.CLASS == 1].length.plot(kind='hist', color='red', label='Spam', alpha=0.6)\n",
        "plt.legend()\n",
        "plt.xlabel(\"Comment Length\");"
      ],
      "metadata": {
        "colab": {
          "base_uri": "https://localhost:8080/",
          "height": 343
        },
        "id": "ZF8WQKjIQy6l",
        "outputId": "298c795c-d72c-4684-9cfe-b733921b5c93"
      },
      "execution_count": 49,
      "outputs": [
        {
          "output_type": "display_data",
          "data": {
            "image/png": "[encoded data removed]",
            "text/plain": [
              "<Figure size 576x360 with 1 Axes>"
            ]
          },
          "metadata": {}
        }
      ]
    },
    {
      "cell_type": "code",
      "metadata": {
        "id": "ypbexix4BWAy"
      },
      "source": [
        "# From above we learn only content and class columns are usefull \n",
        "# define our x and y\n",
        "x = result.CONTENT\n",
        "y = result.CLASS\n"
      ],
      "execution_count": 50,
      "outputs": []
    },
    {
      "cell_type": "code",
      "metadata": {
        "id": "hOGrm0mTBZBf"
      },
      "source": [
        "# use sckit learn \"train_test split\" to split the data \n",
        "# into training and test data\n",
        "\n",
        "ts= .2 \n",
        "x_train, x_test, y_train, y_test = sp(x,y,random_state = 42, test_size = ts)"
      ],
      "execution_count": 51,
      "outputs": []
    },
    {
      "cell_type": "code",
      "metadata": {
        "id": "AIjicUutBbxg"
      },
      "source": [
        "# this will \n",
        "#Tokenizer will transform the comments texts into space-separated sequences of words, and all punctuation is removed by default\n",
        "# After that These sequences are then split into lists of tokens and indexed.\n",
        "#The cat sat on the mat\n",
        "#It will create a dictionary s.t. word_index[\"the\"] = 1; word_index[\"cat\"] = 2\n",
        "tokenizer = keras.preprocessing.text.Tokenizer()\n",
        "tokenizer.fit_on_texts(x_train)"
      ],
      "execution_count": 52,
      "outputs": []
    },
    {
      "cell_type": "code",
      "metadata": {
        "colab": {
          "base_uri": "https://localhost:8080/"
        },
        "id": "OdbwIfu_Biox",
        "outputId": "fa43c960-4db2-43dd-c3e4-b71de06204ac"
      },
      "source": [
        "#vect_x_train\n",
        "print(\"Number of training instances: %d\" % x_train.shape[0])\n",
        "print(\"Number of Classes: %d\" % len(set(y_train)))"
      ],
      "execution_count": 53,
      "outputs": [
        {
          "output_type": "stream",
          "name": "stdout",
          "text": [
            "Number of training instances: 1564\n",
            "Number of Classes: 2\n"
          ]
        }
      ]
    },
    {
      "cell_type": "code",
      "metadata": {
        "colab": {
          "base_uri": "https://localhost:8080/"
        },
        "id": "HWqAOImFBmTw",
        "outputId": "094f6840-4e05-4fec-d90c-71892db323c6"
      },
      "source": [
        "# get how many distinct words do we have in the dataset comments\n",
        "voc_size =  len(tokenizer.word_index) + 1\n",
        "print(\"Token size %d\" % voc_size)"
      ],
      "execution_count": 54,
      "outputs": [
        {
          "output_type": "stream",
          "name": "stdout",
          "text": [
            "Token size 4257\n"
          ]
        }
      ]
    },
    {
      "cell_type": "code",
      "metadata": {
        "colab": {
          "base_uri": "https://localhost:8080/"
        },
        "id": "msH8fq7rBo3U",
        "outputId": "1ef9a03f-af93-4ccb-e639-3d53f88d0843"
      },
      "source": [
        "# calculate the maximum document length\n",
        "def max_length(x_train):\n",
        "    return max([len(s.split()) for s in x_train])\n",
        "\n",
        "print(\"Max comment length in all the training sample: %d \" % max_length(x_train))"
      ],
      "execution_count": 55,
      "outputs": [
        {
          "output_type": "stream",
          "name": "stdout",
          "text": [
            "Max comment length in all the training sample: 172 \n"
          ]
        }
      ]
    },
    {
      "cell_type": "code",
      "metadata": {
        "id": "I2ORnyO1BsO4"
      },
      "source": [
        "# encode a list of lines using tokenizer\n",
        "def encode_text_Token(tokenizer, lines, length):\n",
        "\n",
        "\n",
        "    # integer encode\n",
        "    encoded = tokenizer.texts_to_sequences(lines)\n",
        "\n",
        "    \n",
        "    # pad encoded sequences\n",
        "    padded = pad_sequences(encoded, maxlen=length, padding='post')\n",
        "    return padded"
      ],
      "execution_count": 56,
      "outputs": []
    },
    {
      "cell_type": "markdown",
      "metadata": {
        "id": "mE1_D3xSBuvJ"
      },
      "source": [
        "#BUILDING THE MODEL"
      ]
    },
    {
      "cell_type": "code",
      "metadata": {
        "colab": {
          "base_uri": "https://localhost:8080/"
        },
        "id": "nxIXOSfWBw_v",
        "outputId": "2d84e670-ccca-48c6-deca-67cf4f24dfe1"
      },
      "source": [
        "# First, define the based sequential model (Building the structure of the model)\n",
        "\n",
        "\n",
        "length = max_length(x_train)\n",
        "\n",
        "#find length of the longest comment\n",
        "#the input size will be adjusted to the length of the longest comment we have seen.\n",
        "cnn_input = keras.layers.Input(shape =(length,))\n",
        "\n",
        "#embedding layer will map the different words of the vocabulary that we have seen to a numeric vector representation.\n",
        "#In our case, vocabulary size is the number of distinct words in our comments, and 100 means that we are going to represent each word\n",
        "# word with a vector of size 100.\n",
        "embedding = (keras.layers.Embedding(voc_size, 100)(cnn_input))\n",
        "\n",
        "\n",
        "# The kernel size in the convolutional layer defines the number of words to consider as\n",
        "#the convolution is passed across the input text, filter sees 4 words at each time (filter's window size).\n",
        "# Relu returns 1 if the dot product is more than 0, otherwise it gives 0. (filter representation of the dot product)\n",
        "conv_layer = keras.layers.Conv1D(filters=32, kernel_size=4, activation='relu')(embedding)\n",
        "\n",
        "\n",
        "# we are reducing the effect of some of the neurons on the forward propagation to make the model more general\n",
        "#here we regularized our model by droping out 0.2 (20%) of the neurons.\n",
        "drop_layer = keras.layers.Dropout(0.3)(conv_layer)\n",
        "\n",
        "# take the maximum of each 2 points. which means that the size of our convolutional layer will shrink by window of 2\n",
        "pool_layer = (keras.layers.MaxPooling1D(pool_size=2))(drop_layer)\n",
        "\n",
        "\n",
        "\n",
        "flat_layer = (keras.layers.Flatten())(pool_layer)\n",
        "# reduces its impot to 10 output, normally we use it to merge different convolutional layers\n",
        "\n",
        "\n",
        "dense_layer = (keras.layers.Dense(10, activation='relu'))(flat_layer)\n",
        "\n",
        "\n",
        "# reduces the input to 1 output.\n",
        "cnn_output = (keras.layers.Dense(1, activation='sigmoid'))(dense_layer)\n",
        "\n",
        "\n",
        "#specify the model parameters, input and output\n",
        "\n",
        "our_model=keras.models.Model(inputs = cnn_input, outputs = cnn_output)\n",
        "\n",
        "\n",
        "#compiling the model. which means that now we have a ready model to process our data.\n",
        "our_model.compile(loss='binary_crossentropy', optimizer='adam',metrics=['accuracy'])\n",
        "print(our_model.summary())\n"
      ],
      "execution_count": 57,
      "outputs": [
        {
          "output_type": "stream",
          "name": "stdout",
          "text": [
            "Model: \"model_1\"\n",
            "_________________________________________________________________\n",
            " Layer (type)                Output Shape              Param #   \n",
            "=================================================================\n",
            " input_2 (InputLayer)        [(None, 172)]             0         \n",
            "                                                                 \n",
            " embedding_1 (Embedding)     (None, 172, 100)          425700    \n",
            "                                                                 \n",
            " conv1d_1 (Conv1D)           (None, 169, 32)           12832     \n",
            "                                                                 \n",
            " dropout_1 (Dropout)         (None, 169, 32)           0         \n",
            "                                                                 \n",
            " max_pooling1d_1 (MaxPooling  (None, 84, 32)           0         \n",
            " 1D)                                                             \n",
            "                                                                 \n",
            " flatten_1 (Flatten)         (None, 2688)              0         \n",
            "                                                                 \n",
            " dense_2 (Dense)             (None, 10)                26890     \n",
            "                                                                 \n",
            " dense_3 (Dense)             (None, 1)                 11        \n",
            "                                                                 \n",
            "=================================================================\n",
            "Total params: 465,433\n",
            "Trainable params: 465,433\n",
            "Non-trainable params: 0\n",
            "_________________________________________________________________\n",
            "None\n"
          ]
        }
      ]
    },
    {
      "cell_type": "markdown",
      "metadata": {
        "id": "IYEBx42yB7Qn"
      },
      "source": [
        "#Train the Model"
      ]
    },
    {
      "cell_type": "code",
      "source": [
        ""
      ],
      "metadata": {
        "id": "0QnBh3BGpGll"
      },
      "execution_count": 57,
      "outputs": []
    },
    {
      "cell_type": "code",
      "metadata": {
        "colab": {
          "base_uri": "https://localhost:8080/"
        },
        "id": "ucxJNbr8B-qf",
        "outputId": "04ca55b7-6c43-45b8-dc31-fe6582ae17a4"
      },
      "source": [
        "from numpy import *\n",
        "from keras.preprocessing.sequence import pad_sequences# Train our model on the training dataset\n",
        "EncodedTrainX=encode_text_Token(tokenizer,x_train,length) #epochs represents how many times we are going to pass through\n",
        "#the Whole dataset\n",
        "# batch_size is just the number of instances that our model will handel each time (a segment of the training dataset)\n",
        "history=our_model.fit(EncodedTrainX, array(y_train), epochs=20, batch_size=14)"
      ],
      "execution_count": 58,
      "outputs": [
        {
          "output_type": "stream",
          "name": "stdout",
          "text": [
            "Epoch 1/20\n",
            "112/112 [==============================] - 3s 17ms/step - loss: 0.5556 - accuracy: 0.6803\n",
            "Epoch 2/20\n",
            "112/112 [==============================] - 2s 17ms/step - loss: 0.3514 - accuracy: 0.9514\n",
            "Epoch 3/20\n",
            "112/112 [==============================] - 2s 17ms/step - loss: 0.2959 - accuracy: 0.9853\n",
            "Epoch 4/20\n",
            "112/112 [==============================] - 2s 17ms/step - loss: 0.2632 - accuracy: 0.9910\n",
            "Epoch 5/20\n",
            "112/112 [==============================] - 2s 17ms/step - loss: 0.2392 - accuracy: 0.9955\n",
            "Epoch 6/20\n",
            "112/112 [==============================] - 2s 17ms/step - loss: 0.2207 - accuracy: 0.9955\n",
            "Epoch 7/20\n",
            "112/112 [==============================] - 2s 16ms/step - loss: 0.2040 - accuracy: 0.9955\n",
            "Epoch 8/20\n",
            "112/112 [==============================] - 2s 17ms/step - loss: 0.1889 - accuracy: 0.9968\n",
            "Epoch 9/20\n",
            "112/112 [==============================] - 2s 17ms/step - loss: 0.1753 - accuracy: 0.9968\n",
            "Epoch 10/20\n",
            "112/112 [==============================] - 2s 17ms/step - loss: 0.1632 - accuracy: 0.9968\n",
            "Epoch 11/20\n",
            "112/112 [==============================] - 2s 17ms/step - loss: 0.1526 - accuracy: 0.9968\n",
            "Epoch 12/20\n",
            "112/112 [==============================] - 2s 17ms/step - loss: 0.1423 - accuracy: 0.9968\n",
            "Epoch 13/20\n",
            "112/112 [==============================] - 2s 17ms/step - loss: 0.1333 - accuracy: 0.9968\n",
            "Epoch 14/20\n",
            "112/112 [==============================] - 2s 17ms/step - loss: 0.1250 - accuracy: 0.9968\n",
            "Epoch 15/20\n",
            "112/112 [==============================] - 2s 17ms/step - loss: 0.1174 - accuracy: 0.9968\n",
            "Epoch 16/20\n",
            "112/112 [==============================] - 2s 17ms/step - loss: 0.1104 - accuracy: 0.9968\n",
            "Epoch 17/20\n",
            "112/112 [==============================] - 2s 17ms/step - loss: 0.1040 - accuracy: 0.9968\n",
            "Epoch 18/20\n",
            "112/112 [==============================] - 2s 17ms/step - loss: 0.0981 - accuracy: 0.9968\n",
            "Epoch 19/20\n",
            "112/112 [==============================] - 2s 17ms/step - loss: 0.0926 - accuracy: 0.9968\n",
            "Epoch 20/20\n",
            "112/112 [==============================] - 2s 17ms/step - loss: 0.0876 - accuracy: 0.9968\n"
          ]
        }
      ]
    },
    {
      "cell_type": "markdown",
      "metadata": {
        "id": "URiUIo8LCI8_"
      },
      "source": [
        "#Evaluating the model"
      ]
    },
    {
      "cell_type": "code",
      "source": [
        ""
      ],
      "metadata": {
        "id": "MStwRk9UqZXl"
      },
      "execution_count": 58,
      "outputs": []
    },
    {
      "cell_type": "code",
      "metadata": {
        "colab": {
          "base_uri": "https://localhost:8080/"
        },
        "id": "60gAU12uCLPf",
        "outputId": "92cae95b-c68f-4bc9-bade-9af83ac62316"
      },
      "source": [
        "EncodedTestX = encode_text_Token(tokenizer, x_test, length)\n",
        "\n",
        "# evaluating our model on the training dataset\n",
        "loss, acc = our_model.evaluate(EncodedTrainX, array(y_train), verbose=0)\n",
        "print('Train Accuracy: %f' % (acc*100))\n",
        " \n",
        "# evaluating our model on the test dataset\n",
        "loss, acc = our_model.evaluate(EncodedTestX,array(y_test), verbose=0)\n",
        "print('Test Accuracy: %f' % (acc*100))"
      ],
      "execution_count": 59,
      "outputs": [
        {
          "output_type": "stream",
          "name": "stdout",
          "text": [
            "Train Accuracy: 99.680305\n",
            "Test Accuracy: 94.642860\n"
          ]
        }
      ]
    },
    {
      "cell_type": "code",
      "source": [
        "from matplotlib import pyplot"
      ],
      "metadata": {
        "id": "VICbshHefwQq"
      },
      "execution_count": 60,
      "outputs": []
    },
    {
      "cell_type": "code",
      "source": [
        ""
      ],
      "metadata": {
        "id": "jGVrBYiRgJgw"
      },
      "execution_count": 60,
      "outputs": []
    },
    {
      "cell_type": "code",
      "source": [
        "print(EncodedTestX )"
      ],
      "metadata": {
        "colab": {
          "base_uri": "https://localhost:8080/"
        },
        "id": "nYnrfC8dW6fv",
        "outputId": "c43039c6-e80c-4261-82fa-8733a6b849e2"
      },
      "execution_count": 61,
      "outputs": [
        {
          "output_type": "stream",
          "name": "stdout",
          "text": [
            "[[   1  335   34 ...    0    0    0]\n",
            " [ 191   16  105 ...    0    0    0]\n",
            " [  59  134   49 ...    0    0    0]\n",
            " ...\n",
            " [  68  709    4 ...    0    0    0]\n",
            " [   7    8    4 ...    0    0    0]\n",
            " [  80 3309   29 ...    0    0    0]]\n"
          ]
        }
      ]
    },
    {
      "cell_type": "markdown",
      "metadata": {
        "id": "vsN3JdDqCRcv"
      },
      "source": [
        "#Confusion Matrix"
      ]
    },
    {
      "cell_type": "code",
      "metadata": {
        "id": "SX6sNcVkCh0i"
      },
      "source": [
        "#This Function converts the Probability of our model into labels\n",
        "def ProToClass(ProList):\n",
        "    ClassList=[]\n",
        "    for x in ProList:\n",
        "        if (x >= 0.5):\n",
        "            ClassList.append(1)                \n",
        "        else:\n",
        "            ClassList.append(0)\n",
        "    return ClassList"
      ],
      "execution_count": 62,
      "outputs": []
    },
    {
      "cell_type": "code",
      "metadata": {
        "colab": {
          "base_uri": "https://localhost:8080/"
        },
        "id": "5QKbzF06CK_v",
        "outputId": "15b87f17-e7b8-41e6-f69e-f28c7eca7444"
      },
      "source": [
        "y_test_pre= our_model.predict(EncodedTestX)\n",
        "# print(y_test)\n",
        "# print(y_test_pre)\n",
        "# y_test_pre=keras.utils.to_categorical(y_test_pre, num_classes=2)\n",
        "y_test_pre = ProToClass(y_test_pre)\n",
        "print(\"******************\")\n",
        "print(\"Confusion Matrix\")\n",
        "cm1 = confusion_matrix(y_test,y_test_pre,labels=[1, 0])\n",
        "print(cm1)\n",
        "\n"
      ],
      "execution_count": 63,
      "outputs": [
        {
          "output_type": "stream",
          "name": "stdout",
          "text": [
            "******************\n",
            "Confusion Matrix\n",
            "[[179  10]\n",
            " [ 11 192]]\n"
          ]
        }
      ]
    },
    {
      "cell_type": "code",
      "source": [
        " from sklearn.metrics import confusion_matrix, classification_report\n"
      ],
      "metadata": {
        "id": "nKMEO7uk2Kie"
      },
      "execution_count": 64,
      "outputs": []
    },
    {
      "cell_type": "code",
      "source": [
        "print(classification_report(y_test,y_test_pre))"
      ],
      "metadata": {
        "colab": {
          "base_uri": "https://localhost:8080/"
        },
        "id": "uLNoZbGN1g_5",
        "outputId": "cd8377d6-6b85-42b8-a87b-48cb804e32d1"
      },
      "execution_count": 65,
      "outputs": [
        {
          "output_type": "stream",
          "name": "stdout",
          "text": [
            "              precision    recall  f1-score   support\n",
            "\n",
            "           0       0.95      0.95      0.95       203\n",
            "           1       0.94      0.95      0.94       189\n",
            "\n",
            "    accuracy                           0.95       392\n",
            "   macro avg       0.95      0.95      0.95       392\n",
            "weighted avg       0.95      0.95      0.95       392\n",
            "\n"
          ]
        }
      ]
    },
    {
      "cell_type": "code",
      "source": [
        "import seaborn as sns\n",
        "import matplotlib.pyplot as plt\n",
        "\n",
        "ax = sns.heatmap(cm1, annot=True, cmap='Blues')\n",
        "\n",
        "ax.set_title(' Confusion Matrix with labels\\n\\n');\n",
        "ax.set_xlabel('\\nPredicted Values')\n",
        "ax.set_ylabel('Actual Values ');\n",
        "\n",
        "## Ticket labels - List must be in alphabetical order\n",
        "ax.xaxis.set_ticklabels(['False','True'])\n",
        "ax.yaxis.set_ticklabels(['False','True'])\n",
        "\n",
        "## Display the visualization of the Confusion Matrix.\n",
        "plt.show()"
      ],
      "metadata": {
        "colab": {
          "base_uri": "https://localhost:8080/",
          "height": 354
        },
        "id": "8YOCY2QoJhvF",
        "outputId": "41418c10-ce99-484e-8c1f-8ebb9ef06421"
      },
      "execution_count": 66,
      "outputs": [
        {
          "output_type": "display_data",
          "data": {
            "image/png": "[encoded data removed]",
            "text/plain": [
              "<Figure size 432x288 with 2 Axes>"
            ]
          },
          "metadata": {}
        }
      ]
    },
    {
      "cell_type": "markdown",
      "metadata": {
        "id": "26V0efheCr1F"
      },
      "source": [
        "#Visualize our test set"
      ]
    },
    {
      "cell_type": "code",
      "metadata": {
        "id": "WAb5QTATC-So"
      },
      "source": [
        "\n",
        "import matplotlib.pyplot as plt"
      ],
      "execution_count": 67,
      "outputs": []
    },
    {
      "cell_type": "code",
      "metadata": {
        "colab": {
          "base_uri": "https://localhost:8080/",
          "height": 921
        },
        "id": "zwk2qE9ZCrYe",
        "outputId": "e3fcd6d1-b193-4e38-a3d3-af58b87741fa"
      },
      "source": [
        "print(\"**********************************\")\n",
        "results = Visulize(EncodedTestX,y_test)\n",
        "x= results[0]\n",
        "y=results[1]\n",
        "plt.scatter(x,y)\n",
        "plt.show()\n",
        "print(\"************************\")\n",
        "print(\"Unique spam Words\")\n",
        "\n",
        "spam=[]\n",
        "data=[]\n",
        "for i in range(len(x)) :\n",
        "    if( y[i]==1 ):\n",
        "        spam.append(x[i])\n",
        "        data.append(i)\n",
        "for w in spam:\n",
        "    if w in results[0] and results[1] == 0 :\n",
        "        i = spam.index(w)\n",
        "        spam.remove(w)\n",
        "        data[i].remove()\n",
        "plt.scatter(spam,data)\n",
        "plt.show()\n",
        "spam = list(set(spam))\n",
        "spam = sequence_to_text(spam)\n",
        "print(spam)\n",
        "\n",
        "print(\"************************\")\n",
        "print(\"Unique ham Words\")\n",
        "\n",
        "Ham=[]\n",
        "data=[]\n",
        "for i in range(len(x)) :\n",
        "    if( y[i]==0):\n",
        "        Ham.append(x[i])\n",
        "        data.append(i)\n",
        "for w in Ham:\n",
        "    if w in results[0] and results[1] == 1 :\n",
        "        i = Ham.index(w)\n",
        "        Ham.remove(w)\n",
        "        data[i].remove()\n",
        "plt.scatter(Ham,data)\n",
        "plt.show()\n",
        "Ham = list(set(Ham))\n",
        "Ham = sequence_to_text(Ham)\n",
        "print(Ham)"
      ],
      "execution_count": 68,
      "outputs": [
        {
          "output_type": "stream",
          "name": "stdout",
          "text": [
            "**********************************\n"
          ]
        },
        {
          "output_type": "display_data",
          "data": {
            "image/png": "[encoded data removed]",
            "text/plain": [
              "<Figure size 432x288 with 1 Axes>"
            ]
          },
          "metadata": {}
        },
        {
          "output_type": "stream",
          "name": "stdout",
          "text": [
            "************************\n",
            "Unique spam Words\n"
          ]
        },
        {
          "output_type": "display_data",
          "data": {
            "image/png": "[encoded data removed]",
            "text/plain": [
              "<Figure size 432x288 with 1 Axes>"
            ]
          },
          "metadata": {}
        },
        {
          "output_type": "stream",
          "name": "stdout",
          "text": [
            "['the', 'and', 'to', 'check', 'out', 'a', 'my', 'you', 'on', 'fave', 'is', 'of', 'video', 'com', 'it', 'youtube', 'for', 'me', '39', 'please', 'like', 'in', 'subscribe', 'if', 'so', 'channel', 'love', 'just', 'http', 'sucking', 'music', 'can', 'amp', 'up', 'new', 'have', 'your', 'www', 'but', 'be', 'guys', 'will', 't', 'views', 'm', 'am', 'https', 'knew', 'all', 'at', 'money', 'get', 'from', 'make', 'hey', 'quot', 'arrowgance', 'with', 's', 'do', 'katy', 'who', '2', 'watch', 'u', 'videos', 'know', 'comment', 'we', 'thank', 'how', '3', 'facebook', 'supermariologan', 'as', 'time', 'or', 'our', 'thanks', 'one', 'im', 'really', 'see', 'nonsense', 'much', 'visit', 'us', 'help', 'by', 'here', 'no', 'her', 'he', 'called', '000', 'could', 'over', 'go', 'because', 'an', 'songs', 'has', 'give', 'should', 'perry', 'thumbs', 'still', 'free', 'want', 'some', 'about', 'today', 'does', 'share', 'its', 'now', 'piss', 'toilet', 'what', 'href', 'don', 'quiet', 'v', 'way', 'google', 'playlist', 'd', 'take', 'performance', 'lil', 'everyone', 'most', 'website', 'home', 'rapper', 'very', 'online', 'martin', 'follow', 'making', 'zonepa', 'moneygq', '17yr', 'back', 'resort', 'start', 'working', 'first', 'appreciate', 'comments', 'watching', 'rihanna', 'tracks', 'subscribers', 'audio', 'gt', 'hi', 'day', 'advance', 'dont', 'look', 'per', 'month', 'click', 'covers', 'listen', 'also', 'great', 'got', 'made', 'read', 'extraordinary', 'need', 'dream', 'real', '0', 'getting', 'plus', 'twitter', 'hello', 'giving', 'life', 'those', 'remix', 'support', 'class', '08', 'started', 'ref', 'right', 'hate', 'anyone', 'celebrity', 'sorry', 'vote', 'e', 'these', \"don't\", 'being', 'too', 'funny', 'everyday', 'paid', 'shit', 'wanna', 'fans', 'off', 'plz', 'heard', 'his', 'guy', 'cover', 'never', 'part', 'doing', 'lot', 'co', 'boyfriend', 'name', 'type', 'hit', 'play', 'sub', '15', 'few', 'mother', 'leave', '100', 'work', 'boy', 'spam', 'than', 'better', 'been', 'mean', 'vet', 'lol', 'ones', 'voice', 'live', 'successful', 'hope', 'where', 'tell', 'link', '2013', 'hard', 'ebay', 'true', 'before', 'won', 'probably', 'rel', 'nofollow', 'ot', 'hashtag', 'nothing', 'gonna', 'big', 'remember', 'enjoy', 'seconds', '♥', 'young', 'put', 'girls', 'likes', 'football', 'soon', 'almost', 'moment', 'n', 'omg', 'ly', 'r', 'advertise', 'simple', 'regret', 'trying', 'maybe', 'l', 'id', 'download', 'popular', 'coming', 'win', 'keep', 'little', 'binbox', 'io', 're', 'original', 'top', 'store', 'attention', 'next', 'channel\\ufeff', 'musician', 'crazy', 'scale', 'site', 'miss', 'subscribe\\ufeff', 'don’t', 'post', 'improve', 'well', 'future', 'mind', 'fan', 'man', 'sexy', '4netjobs', 'social', 'africa', 'lots', 'harbor', 'android', 'miley', 'artist', 'apps', 'span', 'friends', 'women', 'buy', 'soundcloud', 'whole', 'earn', 'around', 'already', 'thumb', 'skills', 'subs', 'things', '25', 'hour', '4000', 'else', 'advertisements', 'track', 'find', 'face', 'lake', '2014', 'rappers', 'actually', 'gofundme', 'wanted', 'j', 'their', 'again', 'happy', 'others', 'vimeo', 'days', 'let', '17', 'll', \"you're\", 'own', 'boys', 'write', 'good\\ufeff', 'easily', 'fast', 'adf', 'itunes', 'doesnt', 'dreaming', 'subscription', 'piano', 'step', 'pass', 'kind', 'last', 'forward', 'uk', 'peace', 'always', 'become', 'least', 'yourself', 'latest', 'survival', 'details', 'hair', 'appreciated', 'minecraft', 'bless', 'photo', 've', 'him', 'stuff', 'fighting', 'sr', 'utf8', 'wattpad', 'done', 'sad', 'millions', \"i'll\", 'record', 'reason', 'yo', 'instagram', 'friend', 'wear', 'range', 'media', 'sites', 'experience', '5000', 'monthly', 'cute', 'shhort', 'victorious', 'myself', 'web', 'cyrus', 'brothers', 'url', 'dante', 'riled', 'school', 'baby', 'amazon', 'projects', '20', '200', 'must', 'goals', 'press', 'adam', 'small', 'second', 'wont', 'constructive', 'book', 'something', '90', 'youtuber', 'freedom', 'x', 'line', 'ill', 'nobody', 'dollars', '16', 'cypher', '200k', 'since', 'decided', 'ur', 'feedback', 'band', 'decent', 'change', 'penis', 'agree', 'ft', 'said', '500', 'version', 'mess', 'upto', '35', 'comfort', 'currently', 'hiring', 'wide', 'jobs', 'prior', 'begin', 'immediately', 'income…only', 'try', 'certain', 'weird', 'prove', 'php', 'might', 'i’m', 'named', 'famous', 'se', 'story', 'please\\ufeff', 'pay', 'used', '14', 'videos\\ufeff', 'left', 'button', 'card', 'everything', 'fame', 'criticism', 'vid', 'yet', 'takes', 'mix', 'iphone', 'itm', 'sspagename', 'strk', 'meselx', 'trksid', 'p3984', 'm1555', 'l2649', '365', 'lyrical', 'king', 'isnt', \"i'm\", 'account', 'hackfbaccountlive', 'dragons', 'album', 'net', '50', 'profile', 'water', 'christmas', 'passed', 'upload', 'african', 'master', 'it’s', 'youtubers', 'country', 'lie\\ufeff', 'show', '5tu9gn1l310', 'english', 'freemyapps', 'invest', 'exposure', 'gay', 'equipment', \"we're\", 'back\\ufeff', 'response', 'donate', 'taking', 'wasting', 'sound', 'son', 'seen', 'following', 'rapping', 'user', 'town', 'instrumental', 'songwriter', 'columbus', 'against', 'talent', 'favour', 'drop', 'ive', 'told', 'potential', 'bottom', 'theater', 'imagine', 'insane', 'indiegogo', 'welcome', 'living', 'minute', 'makeup', '6', 'die', 'skip', 'ladies', 'deazy99', 'set', 'dedicated', 'bars', 'waste', '\\xa0\\ufeff', 'isn', 'human', 'alot', 'hip', 'hop', 'loss', 'fashion', 'smile', 'deserve', 'model', 'talk', 'dad', 'cook', 'joking', 'kld3y', 'chanel', 'c', 'shame', 'tryna', '11', 'limit', 'surveys', 'realized', 'perform', 'goal', 'population', 'bored', 'proflinkwrapper', 'proflinkprefix', 'proflink', '104999962146104962510', 'oid', 'fr', 'spamming', 'codes', 'alone', 'thepiratebay', 'torrent', 'leads', '23', 'notorious', 'niko', 'belgium', 'speaks', 'alcoholic', '46', 'care', 'tax', 'reviews', 'singers', 'core', 'possible', 'open', 'hood', 'hilarious', 'talented', 'clean', 'mississippi', 'highly', 'whitney', 'heart', 'counts', 'secret', 'games', 'turned', 'photos', '87', 'tomorrow', 'round', 'singlewave', 'memories', 'spourmo', 'learn', 'xx\\ufeff', 'brand', 'fbid', 'gives', 'subscribed', 'target', 'viral', 'secrets', 'long', 'feed', 'worldwide', 'okay', 'shared', 'simply', '13', 'active', 'passion', 'ambition', 'prod', 'thanks\\ufeff', 'recording', 'build', 'base', 'surgery', 'evil', 'night', 'dancing', 'income', 'bonus', 'bookmakers', 'vanstone', 'protect', 'ways', 'tips', 'verse', 'journey', 'nails', 'raw', 'straight', 'acoustic', 'guess', 'hack', 'uploading', 'feature', 'wife', 'drugs', 'lights', 'finding', 'innocent', 'ociramma', 'french', 'parody', '25000', 'splashes', 'tech', 'stil', 'guys\\ufeff', 'ex', 'i’ve', 'risk', 'woman', 'deals', 'technique', 'betfair', 'jim', 'wagers', 'quid', 'student', 'meaning', 'lover', 'known', 'edit', 'expensive', 'brings', 'fly']\n",
            "************************\n",
            "Unique ham Words\n"
          ]
        },
        {
          "output_type": "display_data",
          "data": {
            "image/png": "[encoded data removed]",
            "text/plain": [
              "<Figure size 432x288 with 1 Axes>"
            ]
          },
          "metadata": {}
        },
        {
          "output_type": "stream",
          "name": "stdout",
          "text": [
            "[None, 'i', '\\ufeff', 'this', 'mom', 'works', 'da', 'months', 'checked', 'love\\ufeff', 'br', 'song', 'huge', 'drunk', 'comprehend', 'elephant', 'that', 'cup', 'happening', 'listening', 'cant', 'bit', 'jackson', 'dumb', 'are', 'party\\ufeff', 'ahhh', 'people', 'she', '1', 'finish', 'views\\ufeff', 'wow\\ufeff', 'saw', 'best', 'not', 'absolutely', 'complete', 'saying', 'box', 'checking', 'random', 'dick', 'copied', 'beauty', 'would', 'more', '♥\\ufeff', \"i've\", 'away', 'was', 'bigger', 'bout', 'good', 'only', 'world', 'partying', 'old', 'sounds', 'pretty', 'eminem', '600', 'island', 'shuffle', 'lt', 'charlie', 'billion', 'rocks', 'says', 'sure', 'sucks', 'there', \"isn't\", 'cry', 'dislike', 'when', 'why', 'train', 'chance', 'now\\ufeff', 'shakira', 'soundsofsunday', 'any', 'sty', 'year', 'wasn', 'awesome', 'lets', 'instead', 'number', 'beat', 'they', 'turn', 'pray', 'smh\\ufeff', 'ever', 'nice', 'champion', 'animals', 'laugh', 'head', 'words', 'dude', 'song\\ufeff', 'singing', 'wish', 'even', 'cevxzvsjlk8', 'then', 'during', 'far', '9', 'shakira\\ufeff', 'come', 'hear', 'years', 'december', 'meh', 'waka', 'waka\\ufeff', 'think', 'nearly', 'shuffle\\ufeff', 'beautiful', '5', 'may', 'dance', 'knows', 'rap', 'million', '2015', 'wow', '19', 'cool', 'girl', '3\\ufeff', 'many', 'cevxzvsjlk8\\ufeff', 'every', 'd\\ufeff', 'going', 'kq6zr6kcpj8', 'power', 'memories\\ufeff', 'epic', '4', 'message', 'lauren', 'stop', 'party', 'video\\ufeff', 'kill', 'hahah', 'hating', 'half', 'anything', 'michael', 'style', 'psy', 'extra', 'between', 'which', '7', 'dear', 'loved', 'hot', 'needed', 'singer', 'such', 'gangnam', 'rock', 'roar', \"she's\", 'view', 'truly', 'doesn', 'survive', 'plane', 'crash', \"can't\", 'eyes', 'bad\\ufeff', 'god', 'lie', 'fucking', 'thing', 'cool\\ufeff', 'amazing', 'reading', 'baby\\ufeff', 'fuck', 'did', 'fantastic', '57', 'it\\ufeff', '8', 'tiger', 'fifa', 'believe', 'megan', 'them', 'movie', 'count', 'makes', 'b', 'ever\\ufeff', 'shot', 'someone', 'ask', 'bass', 'lyrics', 'lmfao', 'broken', 'choice', 'together', 'gets', 'xd', 'news', 'sooooo', \"that's\", 'were', 'whose', \"let's\", 'abusive', 'relate', 'reach', 'understand', 'old\\ufeff', 'acting', 'came', 'wants', 'earth', 'ago', 'replay', 'seriously', 'while', 'person', 'same', 'perfect', 'had', 'high', 'end', 'quite', 'kitty', 'robot', 'fox', 'bennett', '700', 'self', 'without', 'katty', 'beutiful', 'into', 'official', 'youtu', 'sing', 'sec', 'clip', 'viewed', 'reminds', 'bitch', '2015\\ufeff', 'comes', '800', 'bad', 'loving', 'favorite', 'eminem\\ufeff', 'other', 'teenage', 'feel', 'ya', 'tumor', 'job', 'found', 'forget', 'lost', 'super', 'female', 'xd\\ufeff', 'trop', 'holy', 'dislikes', 'anthem', 'pop', 'to\\ufeff', \"it's\", 'soccer', 'much\\ufeff']\n"
          ]
        }
      ]
    }
  ]
}