{
  "nbformat": 4,
  "nbformat_minor": 0,
  "metadata": {
    "colab": {
      "name": "Updated_LSTM_GRU.ipynb",
      "provenance": [],
      "collapsed_sections": []
    },
    "kernelspec": {
      "name": "python3",
      "display_name": "Python 3"
    },
    "language_info": {
      "name": "python"
    },
    "accelerator": "GPU"
  },
  "cells": [
    {
      "cell_type": "code",
      "execution_count": 68,
      "metadata": {
        "colab": {
          "base_uri": "https://localhost:8080/"
        },
        "id": "KD5waw4fW-Eh",
        "outputId": "62a6625b-052a-490c-9ac5-9268df784267"
      },
      "outputs": [
        {
          "output_type": "stream",
          "name": "stdout",
          "text": [
            "[nltk_data] Downloading package punkt to /root/nltk_data...\n",
            "[nltk_data]   Package punkt is already up-to-date!\n"
          ]
        },
        {
          "output_type": "execute_result",
          "data": {
            "text/plain": [
              "True"
            ]
          },
          "metadata": {},
          "execution_count": 68
        }
      ],
      "source": [
        "\n",
        "# Importing the required libraries\n",
        "import keras\n",
        "import numpy as np\n",
        "from keras.models import Sequential,Model\n",
        "from keras.layers import Dense,Bidirectional\n",
        "from nltk.tokenize import word_tokenize,sent_tokenize\n",
        "from keras.layers import *\n",
        "from sklearn.model_selection import cross_val_score\n",
        "import nltk\n",
        "import pandas as pd\n",
        "nltk.download('punkt')"
      ]
    },
    {
      "cell_type": "code",
      "source": [
        "import zipfile"
      ],
      "metadata": {
        "id": "mL74CwLSXVhm"
      },
      "execution_count": 69,
      "outputs": []
    },
    {
      "cell_type": "code",
      "source": [
        "from google.colab import drive\n",
        "drive.mount(\"/content/drive\")"
      ],
      "metadata": {
        "colab": {
          "base_uri": "https://localhost:8080/"
        },
        "id": "i4qnOKjmXL1u",
        "outputId": "1a030e4f-e3d2-4325-e272-c89d375f1af6"
      },
      "execution_count": 70,
      "outputs": [
        {
          "output_type": "stream",
          "name": "stdout",
          "text": [
            "Drive already mounted at /content/drive; to attempt to forcibly remount, call drive.mount(\"/content/drive\", force_remount=True).\n"
          ]
        }
      ]
    },
    {
      "cell_type": "code",
      "source": [
        "z= zipfile.ZipFile(\"/content/drive/MyDrive/Colab Notebooks/YouTube-Spam-Collection-v1.zip\")\n",
        "Psy=pd.read_csv(z.open(\"Youtube01-Psy.csv\"))\n",
        "KatyPerry  =pd.read_csv(z.open(\"Youtube02-KatyPerry.csv\"))\n",
        "LMFAQ =pd.read_csv(z.open(\"Youtube03-LMFAO.csv\"))\n",
        "Eminem =pd.read_csv(z.open(\"Youtube04-Eminem.csv\"))\n",
        "Shakira =pd.read_csv(z.open(\"Youtube05-Shakira.csv\"))\n",
        "frames = [Psy,LMFAQ,Eminem,Shakira,KatyPerry]\n",
        "df = pd.concat(frames)\n",
        "df.head(10)"
      ],
      "metadata": {
        "colab": {
          "base_uri": "https://localhost:8080/",
          "height": 363
        },
        "id": "FW-QumIPXa1U",
        "outputId": "0a159c5c-4e4a-4f95-c689-09eeff26eefb"
      },
      "execution_count": 71,
      "outputs": [
        {
          "output_type": "execute_result",
          "data": {
            "text/html": [
              "\n",
              "  <div id=\"df-3fa05a6a-89e0-4b34-96eb-27d92f006212\">\n",
              "    <div class=\"colab-df-container\">\n",
              "      <div>\n",
              "<style scoped>\n",
              "    .dataframe tbody tr th:only-of-type {\n",
              "        vertical-align: middle;\n",
              "    }\n",
              "\n",
              "    .dataframe tbody tr th {\n",
              "        vertical-align: top;\n",
              "    }\n",
              "\n",
              "    .dataframe thead th {\n",
              "        text-align: right;\n",
              "    }\n",
              "</style>\n",
              "<table border=\"1\" class=\"dataframe\">\n",
              "  <thead>\n",
              "    <tr style=\"text-align: right;\">\n",
              "      <th></th>\n",
              "      <th>COMMENT_ID</th>\n",
              "      <th>AUTHOR</th>\n",
              "      <th>DATE</th>\n",
              "      <th>CONTENT</th>\n",
              "      <th>CLASS</th>\n",
              "    </tr>\n",
              "  </thead>\n",
              "  <tbody>\n",
              "    <tr>\n",
              "      <th>0</th>\n",
              "      <td>LZQPQhLyRh80UYxNuaDWhIGQYNQ96IuCg-AYWqNPjpU</td>\n",
              "      <td>Julius NM</td>\n",
              "      <td>2013-11-07T06:20:48</td>\n",
              "      <td>Huh, anyway check out this you[tube] channel: ...</td>\n",
              "      <td>1</td>\n",
              "    </tr>\n",
              "    <tr>\n",
              "      <th>1</th>\n",
              "      <td>LZQPQhLyRh_C2cTtd9MvFRJedxydaVW-2sNg5Diuo4A</td>\n",
              "      <td>adam riyati</td>\n",
              "      <td>2013-11-07T12:37:15</td>\n",
              "      <td>Hey guys check out my new channel and our firs...</td>\n",
              "      <td>1</td>\n",
              "    </tr>\n",
              "    <tr>\n",
              "      <th>2</th>\n",
              "      <td>LZQPQhLyRh9MSZYnf8djyk0gEF9BHDPYrrK-qCczIY8</td>\n",
              "      <td>Evgeny Murashkin</td>\n",
              "      <td>2013-11-08T17:34:21</td>\n",
              "      <td>just for test I have to say murdev.com</td>\n",
              "      <td>1</td>\n",
              "    </tr>\n",
              "    <tr>\n",
              "      <th>3</th>\n",
              "      <td>z13jhp0bxqncu512g22wvzkasxmvvzjaz04</td>\n",
              "      <td>ElNino Melendez</td>\n",
              "      <td>2013-11-09T08:28:43</td>\n",
              "      <td>me shaking my sexy ass on my channel enjoy ^_^ ﻿</td>\n",
              "      <td>1</td>\n",
              "    </tr>\n",
              "    <tr>\n",
              "      <th>4</th>\n",
              "      <td>z13fwbwp1oujthgqj04chlngpvzmtt3r3dw</td>\n",
              "      <td>GsMega</td>\n",
              "      <td>2013-11-10T16:05:38</td>\n",
              "      <td>watch?v=vtaRGgvGtWQ   Check this out .﻿</td>\n",
              "      <td>1</td>\n",
              "    </tr>\n",
              "    <tr>\n",
              "      <th>5</th>\n",
              "      <td>LZQPQhLyRh9-wNRtlZDM90f1k0BrdVdJyN_YsaSwfxc</td>\n",
              "      <td>Jason Haddad</td>\n",
              "      <td>2013-11-26T02:55:11</td>\n",
              "      <td>Hey, check out my new website!! This site is a...</td>\n",
              "      <td>1</td>\n",
              "    </tr>\n",
              "    <tr>\n",
              "      <th>6</th>\n",
              "      <td>z13lfzdo5vmdi1cm123te5uz2mqig1brz04</td>\n",
              "      <td>ferleck ferles</td>\n",
              "      <td>2013-11-27T21:39:24</td>\n",
              "      <td>Subscribe to my channel ﻿</td>\n",
              "      <td>1</td>\n",
              "    </tr>\n",
              "    <tr>\n",
              "      <th>7</th>\n",
              "      <td>z122wfnzgt30fhubn04cdn3xfx2mxzngsl40k</td>\n",
              "      <td>Bob Kanowski</td>\n",
              "      <td>2013-11-28T12:33:27</td>\n",
              "      <td>i turned it on mute as soon is i came on i jus...</td>\n",
              "      <td>0</td>\n",
              "    </tr>\n",
              "    <tr>\n",
              "      <th>8</th>\n",
              "      <td>z13ttt1jcraqexk2o234ghbgzxymz1zzi04</td>\n",
              "      <td>Cony</td>\n",
              "      <td>2013-11-28T16:01:47</td>\n",
              "      <td>You should check my channel for Funny VIDEOS!!﻿</td>\n",
              "      <td>1</td>\n",
              "    </tr>\n",
              "    <tr>\n",
              "      <th>9</th>\n",
              "      <td>z12avveb4xqiirsix04chxviiljryduwxg0</td>\n",
              "      <td>BeBe Burkey</td>\n",
              "      <td>2013-11-28T16:30:13</td>\n",
              "      <td>and u should.d check my channel and tell me wh...</td>\n",
              "      <td>1</td>\n",
              "    </tr>\n",
              "  </tbody>\n",
              "</table>\n",
              "</div>\n",
              "      <button class=\"colab-df-convert\" onclick=\"convertToInteractive('df-3fa05a6a-89e0-4b34-96eb-27d92f006212')\"\n",
              "              title=\"Convert this dataframe to an interactive table.\"\n",
              "              style=\"display:none;\">\n",
              "        \n",
              "  <svg xmlns=\"http://www.w3.org/2000/svg\" height=\"24px\"viewBox=\"0 0 24 24\"\n",
              "       width=\"24px\">\n",
              "    <path d=\"M0 0h24v24H0V0z\" fill=\"none\"/>\n",
              "    <path d=\"M18.56 5.44l.94 2.06.94-2.06 2.06-.94-2.06-.94-.94-2.06-.94 2.06-2.06.94zm-11 1L8.5 8.5l.94-2.06 2.06-.94-2.06-.94L8.5 2.5l-.94 2.06-2.06.94zm10 10l.94 2.06.94-2.06 2.06-.94-2.06-.94-.94-2.06-.94 2.06-2.06.94z\"/><path d=\"M17.41 7.96l-1.37-1.37c-.4-.4-.92-.59-1.43-.59-.52 0-1.04.2-1.43.59L10.3 9.45l-7.72 7.72c-.78.78-.78 2.05 0 2.83L4 21.41c.39.39.9.59 1.41.59.51 0 1.02-.2 1.41-.59l7.78-7.78 2.81-2.81c.8-.78.8-2.07 0-2.86zM5.41 20L4 18.59l7.72-7.72 1.47 1.35L5.41 20z\"/>\n",
              "  </svg>\n",
              "      </button>\n",
              "      \n",
              "  <style>\n",
              "    .colab-df-container {\n",
              "      display:flex;\n",
              "      flex-wrap:wrap;\n",
              "      gap: 12px;\n",
              "    }\n",
              "\n",
              "    .colab-df-convert {\n",
              "      background-color: #E8F0FE;\n",
              "      border: none;\n",
              "      border-radius: 50%;\n",
              "      cursor: pointer;\n",
              "      display: none;\n",
              "      fill: #1967D2;\n",
              "      height: 32px;\n",
              "      padding: 0 0 0 0;\n",
              "      width: 32px;\n",
              "    }\n",
              "\n",
              "    .colab-df-convert:hover {\n",
              "      background-color: #E2EBFA;\n",
              "      box-shadow: 0px 1px 2px rgba(60, 64, 67, 0.3), 0px 1px 3px 1px rgba(60, 64, 67, 0.15);\n",
              "      fill: #174EA6;\n",
              "    }\n",
              "\n",
              "    [theme=dark] .colab-df-convert {\n",
              "      background-color: #3B4455;\n",
              "      fill: #D2E3FC;\n",
              "    }\n",
              "\n",
              "    [theme=dark] .colab-df-convert:hover {\n",
              "      background-color: #434B5C;\n",
              "      box-shadow: 0px 1px 3px 1px rgba(0, 0, 0, 0.15);\n",
              "      filter: drop-shadow(0px 1px 2px rgba(0, 0, 0, 0.3));\n",
              "      fill: #FFFFFF;\n",
              "    }\n",
              "  </style>\n",
              "\n",
              "      <script>\n",
              "        const buttonEl =\n",
              "          document.querySelector('#df-3fa05a6a-89e0-4b34-96eb-27d92f006212 button.colab-df-convert');\n",
              "        buttonEl.style.display =\n",
              "          google.colab.kernel.accessAllowed ? 'block' : 'none';\n",
              "\n",
              "        async function convertToInteractive(key) {\n",
              "          const element = document.querySelector('#df-3fa05a6a-89e0-4b34-96eb-27d92f006212');\n",
              "          const dataTable =\n",
              "            await google.colab.kernel.invokeFunction('convertToInteractive',\n",
              "                                                     [key], {});\n",
              "          if (!dataTable) return;\n",
              "\n",
              "          const docLinkHtml = 'Like what you see? Visit the ' +\n",
              "            '<a target=\"_blank\" href=https://colab.research.google.com/notebooks/data_table.ipynb>data table notebook</a>'\n",
              "            + ' to learn more about interactive tables.';\n",
              "          element.innerHTML = '';\n",
              "          dataTable['output_type'] = 'display_data';\n",
              "          await google.colab.output.renderOutput(dataTable, element);\n",
              "          const docLink = document.createElement('div');\n",
              "          docLink.innerHTML = docLinkHtml;\n",
              "          element.appendChild(docLink);\n",
              "        }\n",
              "      </script>\n",
              "    </div>\n",
              "  </div>\n",
              "  "
            ],
            "text/plain": [
              "                                    COMMENT_ID  ... CLASS\n",
              "0  LZQPQhLyRh80UYxNuaDWhIGQYNQ96IuCg-AYWqNPjpU  ...     1\n",
              "1  LZQPQhLyRh_C2cTtd9MvFRJedxydaVW-2sNg5Diuo4A  ...     1\n",
              "2  LZQPQhLyRh9MSZYnf8djyk0gEF9BHDPYrrK-qCczIY8  ...     1\n",
              "3          z13jhp0bxqncu512g22wvzkasxmvvzjaz04  ...     1\n",
              "4          z13fwbwp1oujthgqj04chlngpvzmtt3r3dw  ...     1\n",
              "5  LZQPQhLyRh9-wNRtlZDM90f1k0BrdVdJyN_YsaSwfxc  ...     1\n",
              "6          z13lfzdo5vmdi1cm123te5uz2mqig1brz04  ...     1\n",
              "7        z122wfnzgt30fhubn04cdn3xfx2mxzngsl40k  ...     0\n",
              "8          z13ttt1jcraqexk2o234ghbgzxymz1zzi04  ...     1\n",
              "9          z12avveb4xqiirsix04chxviiljryduwxg0  ...     1\n",
              "\n",
              "[10 rows x 5 columns]"
            ]
          },
          "metadata": {},
          "execution_count": 71
        }
      ]
    },
    {
      "cell_type": "code",
      "source": [
        "\n",
        "\n",
        "df.drop(['COMMENT_ID', 'AUTHOR', 'DATE'], axis=1, inplace=True)"
      ],
      "metadata": {
        "id": "eLw1xO5ZXpNU"
      },
      "execution_count": 72,
      "outputs": []
    },
    {
      "cell_type": "code",
      "source": [
        "df.head()"
      ],
      "metadata": {
        "colab": {
          "base_uri": "https://localhost:8080/",
          "height": 206
        },
        "id": "n9DIEDVIYGwk",
        "outputId": "5a4e9e85-a47c-4147-9e78-bb9611fb9c44"
      },
      "execution_count": 73,
      "outputs": [
        {
          "output_type": "execute_result",
          "data": {
            "text/html": [
              "\n",
              "  <div id=\"df-63efc46f-66c6-47b9-b0fe-171aa74b567a\">\n",
              "    <div class=\"colab-df-container\">\n",
              "      <div>\n",
              "<style scoped>\n",
              "    .dataframe tbody tr th:only-of-type {\n",
              "        vertical-align: middle;\n",
              "    }\n",
              "\n",
              "    .dataframe tbody tr th {\n",
              "        vertical-align: top;\n",
              "    }\n",
              "\n",
              "    .dataframe thead th {\n",
              "        text-align: right;\n",
              "    }\n",
              "</style>\n",
              "<table border=\"1\" class=\"dataframe\">\n",
              "  <thead>\n",
              "    <tr style=\"text-align: right;\">\n",
              "      <th></th>\n",
              "      <th>CONTENT</th>\n",
              "      <th>CLASS</th>\n",
              "    </tr>\n",
              "  </thead>\n",
              "  <tbody>\n",
              "    <tr>\n",
              "      <th>0</th>\n",
              "      <td>Huh, anyway check out this you[tube] channel: ...</td>\n",
              "      <td>1</td>\n",
              "    </tr>\n",
              "    <tr>\n",
              "      <th>1</th>\n",
              "      <td>Hey guys check out my new channel and our firs...</td>\n",
              "      <td>1</td>\n",
              "    </tr>\n",
              "    <tr>\n",
              "      <th>2</th>\n",
              "      <td>just for test I have to say murdev.com</td>\n",
              "      <td>1</td>\n",
              "    </tr>\n",
              "    <tr>\n",
              "      <th>3</th>\n",
              "      <td>me shaking my sexy ass on my channel enjoy ^_^ ﻿</td>\n",
              "      <td>1</td>\n",
              "    </tr>\n",
              "    <tr>\n",
              "      <th>4</th>\n",
              "      <td>watch?v=vtaRGgvGtWQ   Check this out .﻿</td>\n",
              "      <td>1</td>\n",
              "    </tr>\n",
              "  </tbody>\n",
              "</table>\n",
              "</div>\n",
              "      <button class=\"colab-df-convert\" onclick=\"convertToInteractive('df-63efc46f-66c6-47b9-b0fe-171aa74b567a')\"\n",
              "              title=\"Convert this dataframe to an interactive table.\"\n",
              "              style=\"display:none;\">\n",
              "        \n",
              "  <svg xmlns=\"http://www.w3.org/2000/svg\" height=\"24px\"viewBox=\"0 0 24 24\"\n",
              "       width=\"24px\">\n",
              "    <path d=\"M0 0h24v24H0V0z\" fill=\"none\"/>\n",
              "    <path d=\"M18.56 5.44l.94 2.06.94-2.06 2.06-.94-2.06-.94-.94-2.06-.94 2.06-2.06.94zm-11 1L8.5 8.5l.94-2.06 2.06-.94-2.06-.94L8.5 2.5l-.94 2.06-2.06.94zm10 10l.94 2.06.94-2.06 2.06-.94-2.06-.94-.94-2.06-.94 2.06-2.06.94z\"/><path d=\"M17.41 7.96l-1.37-1.37c-.4-.4-.92-.59-1.43-.59-.52 0-1.04.2-1.43.59L10.3 9.45l-7.72 7.72c-.78.78-.78 2.05 0 2.83L4 21.41c.39.39.9.59 1.41.59.51 0 1.02-.2 1.41-.59l7.78-7.78 2.81-2.81c.8-.78.8-2.07 0-2.86zM5.41 20L4 18.59l7.72-7.72 1.47 1.35L5.41 20z\"/>\n",
              "  </svg>\n",
              "      </button>\n",
              "      \n",
              "  <style>\n",
              "    .colab-df-container {\n",
              "      display:flex;\n",
              "      flex-wrap:wrap;\n",
              "      gap: 12px;\n",
              "    }\n",
              "\n",
              "    .colab-df-convert {\n",
              "      background-color: #E8F0FE;\n",
              "      border: none;\n",
              "      border-radius: 50%;\n",
              "      cursor: pointer;\n",
              "      display: none;\n",
              "      fill: #1967D2;\n",
              "      height: 32px;\n",
              "      padding: 0 0 0 0;\n",
              "      width: 32px;\n",
              "    }\n",
              "\n",
              "    .colab-df-convert:hover {\n",
              "      background-color: #E2EBFA;\n",
              "      box-shadow: 0px 1px 2px rgba(60, 64, 67, 0.3), 0px 1px 3px 1px rgba(60, 64, 67, 0.15);\n",
              "      fill: #174EA6;\n",
              "    }\n",
              "\n",
              "    [theme=dark] .colab-df-convert {\n",
              "      background-color: #3B4455;\n",
              "      fill: #D2E3FC;\n",
              "    }\n",
              "\n",
              "    [theme=dark] .colab-df-convert:hover {\n",
              "      background-color: #434B5C;\n",
              "      box-shadow: 0px 1px 3px 1px rgba(0, 0, 0, 0.15);\n",
              "      filter: drop-shadow(0px 1px 2px rgba(0, 0, 0, 0.3));\n",
              "      fill: #FFFFFF;\n",
              "    }\n",
              "  </style>\n",
              "\n",
              "      <script>\n",
              "        const buttonEl =\n",
              "          document.querySelector('#df-63efc46f-66c6-47b9-b0fe-171aa74b567a button.colab-df-convert');\n",
              "        buttonEl.style.display =\n",
              "          google.colab.kernel.accessAllowed ? 'block' : 'none';\n",
              "\n",
              "        async function convertToInteractive(key) {\n",
              "          const element = document.querySelector('#df-63efc46f-66c6-47b9-b0fe-171aa74b567a');\n",
              "          const dataTable =\n",
              "            await google.colab.kernel.invokeFunction('convertToInteractive',\n",
              "                                                     [key], {});\n",
              "          if (!dataTable) return;\n",
              "\n",
              "          const docLinkHtml = 'Like what you see? Visit the ' +\n",
              "            '<a target=\"_blank\" href=https://colab.research.google.com/notebooks/data_table.ipynb>data table notebook</a>'\n",
              "            + ' to learn more about interactive tables.';\n",
              "          element.innerHTML = '';\n",
              "          dataTable['output_type'] = 'display_data';\n",
              "          await google.colab.output.renderOutput(dataTable, element);\n",
              "          const docLink = document.createElement('div');\n",
              "          docLink.innerHTML = docLinkHtml;\n",
              "          element.appendChild(docLink);\n",
              "        }\n",
              "      </script>\n",
              "    </div>\n",
              "  </div>\n",
              "  "
            ],
            "text/plain": [
              "                                             CONTENT  CLASS\n",
              "0  Huh, anyway check out this you[tube] channel: ...      1\n",
              "1  Hey guys check out my new channel and our firs...      1\n",
              "2             just for test I have to say murdev.com      1\n",
              "3   me shaking my sexy ass on my channel enjoy ^_^ ﻿      1\n",
              "4            watch?v=vtaRGgvGtWQ   Check this out .﻿      1"
            ]
          },
          "metadata": {},
          "execution_count": 73
        }
      ]
    },
    {
      "cell_type": "code",
      "source": [
        "df['CLASS'].value_counts()"
      ],
      "metadata": {
        "colab": {
          "base_uri": "https://localhost:8080/"
        },
        "id": "Jr0_2GIHrInw",
        "outputId": "3b65b353-9e0e-41d1-c586-d5058f53d7ed"
      },
      "execution_count": 74,
      "outputs": [
        {
          "output_type": "execute_result",
          "data": {
            "text/plain": [
              "1    1005\n",
              "0     951\n",
              "Name: CLASS, dtype: int64"
            ]
          },
          "metadata": {},
          "execution_count": 74
        }
      ]
    },
    {
      "cell_type": "markdown",
      "source": [
        ""
      ],
      "metadata": {
        "id": "rKFpm_-MwORP"
      }
    },
    {
      "cell_type": "code",
      "source": [
        "import re\n",
        "\n",
        "def text_cleaning(text):\n",
        "  text = re.sub(r'@[A-Za-z0-9]+', '', text)     # removing @mentions\n",
        "  text = re.sub(r'@[A-Za-zA-Z0-9]+', '', text)  # removing @mentions \n",
        "  text = re.sub(r'@[A-Za-z]+', '', text)        # removing @mentions\n",
        "  text = re.sub(r'@[-)]+', '', text)            # removing @mentions\n",
        "  text = re.sub(r'#', '', text )                # removing '#' sign\n",
        "  text = re.sub(r'RT[\\s]+', '', text)           # removing RT\n",
        "  text = re.sub(r'https?\\/\\/\\S+', '', text)     # removing the hyper link\n",
        "  text = re.sub(r'&[a-z;]+', '', text)          # removing '&gt;'\n",
        "\n",
        "  return text"
      ],
      "metadata": {
        "id": "qmj62981ZdZT"
      },
      "execution_count": 75,
      "outputs": []
    },
    {
      "cell_type": "code",
      "source": [
        "df['CONTENT'] = df['CONTENT'].apply(text_cleaning)\n",
        "df.head(10)"
      ],
      "metadata": {
        "colab": {
          "base_uri": "https://localhost:8080/",
          "height": 363
        },
        "id": "TJAG2WqhrfBq",
        "outputId": "9127c676-aa26-49af-9a1d-cec3f0b358d1"
      },
      "execution_count": 76,
      "outputs": [
        {
          "output_type": "execute_result",
          "data": {
            "text/html": [
              "\n",
              "  <div id=\"df-c6b90cb0-e9d1-4e67-960b-2504cffafd1e\">\n",
              "    <div class=\"colab-df-container\">\n",
              "      <div>\n",
              "<style scoped>\n",
              "    .dataframe tbody tr th:only-of-type {\n",
              "        vertical-align: middle;\n",
              "    }\n",
              "\n",
              "    .dataframe tbody tr th {\n",
              "        vertical-align: top;\n",
              "    }\n",
              "\n",
              "    .dataframe thead th {\n",
              "        text-align: right;\n",
              "    }\n",
              "</style>\n",
              "<table border=\"1\" class=\"dataframe\">\n",
              "  <thead>\n",
              "    <tr style=\"text-align: right;\">\n",
              "      <th></th>\n",
              "      <th>CONTENT</th>\n",
              "      <th>CLASS</th>\n",
              "    </tr>\n",
              "  </thead>\n",
              "  <tbody>\n",
              "    <tr>\n",
              "      <th>0</th>\n",
              "      <td>Huh, anyway check out this you[tube] channel: ...</td>\n",
              "      <td>1</td>\n",
              "    </tr>\n",
              "    <tr>\n",
              "      <th>1</th>\n",
              "      <td>Hey guys check out my new channel and our firs...</td>\n",
              "      <td>1</td>\n",
              "    </tr>\n",
              "    <tr>\n",
              "      <th>2</th>\n",
              "      <td>just for test I have to say murdev.com</td>\n",
              "      <td>1</td>\n",
              "    </tr>\n",
              "    <tr>\n",
              "      <th>3</th>\n",
              "      <td>me shaking my sexy ass on my channel enjoy ^_^ ﻿</td>\n",
              "      <td>1</td>\n",
              "    </tr>\n",
              "    <tr>\n",
              "      <th>4</th>\n",
              "      <td>watch?v=vtaRGgvGtWQ   Check this out .﻿</td>\n",
              "      <td>1</td>\n",
              "    </tr>\n",
              "    <tr>\n",
              "      <th>5</th>\n",
              "      <td>Hey, check out my new website!! This site is a...</td>\n",
              "      <td>1</td>\n",
              "    </tr>\n",
              "    <tr>\n",
              "      <th>6</th>\n",
              "      <td>Subscribe to my channel ﻿</td>\n",
              "      <td>1</td>\n",
              "    </tr>\n",
              "    <tr>\n",
              "      <th>7</th>\n",
              "      <td>i turned it on mute as soon is i came on i jus...</td>\n",
              "      <td>0</td>\n",
              "    </tr>\n",
              "    <tr>\n",
              "      <th>8</th>\n",
              "      <td>You should check my channel for Funny VIDEOS!!﻿</td>\n",
              "      <td>1</td>\n",
              "    </tr>\n",
              "    <tr>\n",
              "      <th>9</th>\n",
              "      <td>and u should.d check my channel and tell me wh...</td>\n",
              "      <td>1</td>\n",
              "    </tr>\n",
              "  </tbody>\n",
              "</table>\n",
              "</div>\n",
              "      <button class=\"colab-df-convert\" onclick=\"convertToInteractive('df-c6b90cb0-e9d1-4e67-960b-2504cffafd1e')\"\n",
              "              title=\"Convert this dataframe to an interactive table.\"\n",
              "              style=\"display:none;\">\n",
              "        \n",
              "  <svg xmlns=\"http://www.w3.org/2000/svg\" height=\"24px\"viewBox=\"0 0 24 24\"\n",
              "       width=\"24px\">\n",
              "    <path d=\"M0 0h24v24H0V0z\" fill=\"none\"/>\n",
              "    <path d=\"M18.56 5.44l.94 2.06.94-2.06 2.06-.94-2.06-.94-.94-2.06-.94 2.06-2.06.94zm-11 1L8.5 8.5l.94-2.06 2.06-.94-2.06-.94L8.5 2.5l-.94 2.06-2.06.94zm10 10l.94 2.06.94-2.06 2.06-.94-2.06-.94-.94-2.06-.94 2.06-2.06.94z\"/><path d=\"M17.41 7.96l-1.37-1.37c-.4-.4-.92-.59-1.43-.59-.52 0-1.04.2-1.43.59L10.3 9.45l-7.72 7.72c-.78.78-.78 2.05 0 2.83L4 21.41c.39.39.9.59 1.41.59.51 0 1.02-.2 1.41-.59l7.78-7.78 2.81-2.81c.8-.78.8-2.07 0-2.86zM5.41 20L4 18.59l7.72-7.72 1.47 1.35L5.41 20z\"/>\n",
              "  </svg>\n",
              "      </button>\n",
              "      \n",
              "  <style>\n",
              "    .colab-df-container {\n",
              "      display:flex;\n",
              "      flex-wrap:wrap;\n",
              "      gap: 12px;\n",
              "    }\n",
              "\n",
              "    .colab-df-convert {\n",
              "      background-color: #E8F0FE;\n",
              "      border: none;\n",
              "      border-radius: 50%;\n",
              "      cursor: pointer;\n",
              "      display: none;\n",
              "      fill: #1967D2;\n",
              "      height: 32px;\n",
              "      padding: 0 0 0 0;\n",
              "      width: 32px;\n",
              "    }\n",
              "\n",
              "    .colab-df-convert:hover {\n",
              "      background-color: #E2EBFA;\n",
              "      box-shadow: 0px 1px 2px rgba(60, 64, 67, 0.3), 0px 1px 3px 1px rgba(60, 64, 67, 0.15);\n",
              "      fill: #174EA6;\n",
              "    }\n",
              "\n",
              "    [theme=dark] .colab-df-convert {\n",
              "      background-color: #3B4455;\n",
              "      fill: #D2E3FC;\n",
              "    }\n",
              "\n",
              "    [theme=dark] .colab-df-convert:hover {\n",
              "      background-color: #434B5C;\n",
              "      box-shadow: 0px 1px 3px 1px rgba(0, 0, 0, 0.15);\n",
              "      filter: drop-shadow(0px 1px 2px rgba(0, 0, 0, 0.3));\n",
              "      fill: #FFFFFF;\n",
              "    }\n",
              "  </style>\n",
              "\n",
              "      <script>\n",
              "        const buttonEl =\n",
              "          document.querySelector('#df-c6b90cb0-e9d1-4e67-960b-2504cffafd1e button.colab-df-convert');\n",
              "        buttonEl.style.display =\n",
              "          google.colab.kernel.accessAllowed ? 'block' : 'none';\n",
              "\n",
              "        async function convertToInteractive(key) {\n",
              "          const element = document.querySelector('#df-c6b90cb0-e9d1-4e67-960b-2504cffafd1e');\n",
              "          const dataTable =\n",
              "            await google.colab.kernel.invokeFunction('convertToInteractive',\n",
              "                                                     [key], {});\n",
              "          if (!dataTable) return;\n",
              "\n",
              "          const docLinkHtml = 'Like what you see? Visit the ' +\n",
              "            '<a target=\"_blank\" href=https://colab.research.google.com/notebooks/data_table.ipynb>data table notebook</a>'\n",
              "            + ' to learn more about interactive tables.';\n",
              "          element.innerHTML = '';\n",
              "          dataTable['output_type'] = 'display_data';\n",
              "          await google.colab.output.renderOutput(dataTable, element);\n",
              "          const docLink = document.createElement('div');\n",
              "          docLink.innerHTML = docLinkHtml;\n",
              "          element.appendChild(docLink);\n",
              "        }\n",
              "      </script>\n",
              "    </div>\n",
              "  </div>\n",
              "  "
            ],
            "text/plain": [
              "                                             CONTENT  CLASS\n",
              "0  Huh, anyway check out this you[tube] channel: ...      1\n",
              "1  Hey guys check out my new channel and our firs...      1\n",
              "2             just for test I have to say murdev.com      1\n",
              "3   me shaking my sexy ass on my channel enjoy ^_^ ﻿      1\n",
              "4            watch?v=vtaRGgvGtWQ   Check this out .﻿      1\n",
              "5  Hey, check out my new website!! This site is a...      1\n",
              "6                          Subscribe to my channel ﻿      1\n",
              "7  i turned it on mute as soon is i came on i jus...      0\n",
              "8    You should check my channel for Funny VIDEOS!!﻿      1\n",
              "9  and u should.d check my channel and tell me wh...      1"
            ]
          },
          "metadata": {},
          "execution_count": 76
        }
      ]
    },
    {
      "cell_type": "code",
      "source": [
        "from sklearn.model_selection import train_test_split\n",
        "\n",
        "x_train, x_test, y_train, y_test = train_test_split(df['CONTENT'].values, df['CLASS'].values, test_size=0.20)"
      ],
      "metadata": {
        "id": "2iz-Iv75r58i"
      },
      "execution_count": 77,
      "outputs": []
    },
    {
      "cell_type": "code",
      "source": [
        "print('CONTENT: ', x_train[0])\n",
        "print('CLASS: ', y_train[0])"
      ],
      "metadata": {
        "colab": {
          "base_uri": "https://localhost:8080/"
        },
        "id": "jc5CrafssEBi",
        "outputId": "132a563f-046f-4728-94e2-b1aa5fe6d06f"
      },
      "execution_count": 78,
      "outputs": [
        {
          "output_type": "stream",
          "name": "stdout",
          "text": [
            "CONTENT:  Check out this video on YouTube:﻿\n",
            "CLASS:  1\n"
          ]
        }
      ]
    },
    {
      "cell_type": "code",
      "source": [
        "from tensorflow.keras.preprocessing.text import Tokenizer\n",
        "from tensorflow.keras.preprocessing.sequence import pad_sequences "
      ],
      "metadata": {
        "id": "5rL61vr_sgYQ"
      },
      "execution_count": 79,
      "outputs": []
    },
    {
      "cell_type": "code",
      "source": [
        "# instantiating the tokenizer\n",
        "max_vocab = 20000000\n",
        "tokenizer = Tokenizer(num_words=max_vocab)\n",
        "tokenizer.fit_on_texts(x_train)"
      ],
      "metadata": {
        "id": "J5WJBkrjskEp"
      },
      "execution_count": 80,
      "outputs": []
    },
    {
      "cell_type": "code",
      "source": [
        "# checking the word index and find out the vocabulary of the dataset\n",
        "wordidx = tokenizer.word_index\n",
        "V = len(wordidx)\n",
        "print('The size of datatset vocab is: ', V)"
      ],
      "metadata": {
        "colab": {
          "base_uri": "https://localhost:8080/"
        },
        "id": "vKqwWYEYsoG5",
        "outputId": "15530cad-a49c-47cf-f542-191b4306c0f3"
      },
      "execution_count": 81,
      "outputs": [
        {
          "output_type": "stream",
          "name": "stdout",
          "text": [
            "The size of datatset vocab is:  4302\n"
          ]
        }
      ]
    },
    {
      "cell_type": "code",
      "source": [
        "# converting tran and test sentences into sequences\n",
        "train_seq = tokenizer.texts_to_sequences(x_train)\n",
        "test_seq = tokenizer.texts_to_sequences(x_test)\n",
        "print('Training sequence: ', train_seq[0])\n",
        "print('Testing sequence: ', test_seq[0])"
      ],
      "metadata": {
        "colab": {
          "base_uri": "https://localhost:8080/"
        },
        "id": "YV315sClsr7X",
        "outputId": "2b1820cd-b70a-4480-98f5-ac18f850a765"
      },
      "execution_count": 82,
      "outputs": [
        {
          "output_type": "stream",
          "name": "stdout",
          "text": [
            "Training sequence:  [11, 8, 3, 16, 12, 21, 2]\n",
            "Testing sequence:  [5, 136, 143, 509, 4, 162, 887, 5, 334, 47, 1, 22, 414, 4278, 5, 86, 3, 16, 56, 995, 85, 7, 198, 289, 3997, 73, 366, 29, 896, 32, 334, 4, 1052, 745, 2]\n"
          ]
        }
      ]
    },
    {
      "cell_type": "code",
      "source": [
        "# padding the sequences to get equal length sequence because its conventional to use same size sequences\n",
        "# padding the traing sequence\n",
        "pad_train = pad_sequences(train_seq)\n",
        "T = pad_train.shape[1]\n",
        "print('The length of training sequence is: ', T)\n"
      ],
      "metadata": {
        "colab": {
          "base_uri": "https://localhost:8080/"
        },
        "id": "M08yw8qSsvlP",
        "outputId": "4d2d980d-b05d-4d14-d891-1144edec2f6a"
      },
      "execution_count": 83,
      "outputs": [
        {
          "output_type": "stream",
          "name": "stdout",
          "text": [
            "The length of training sequence is:  216\n"
          ]
        }
      ]
    },
    {
      "cell_type": "code",
      "source": [
        "# padding the test sequence\n",
        "pad_test = pad_sequences(test_seq, maxlen=T)\n",
        "print('The length of testing sequence is: ', pad_test.shape[1])"
      ],
      "metadata": {
        "colab": {
          "base_uri": "https://localhost:8080/"
        },
        "id": "6GTgCYS_sy6P",
        "outputId": "81e0a612-828e-48ee-ce73-d72bd128c55d"
      },
      "execution_count": 84,
      "outputs": [
        {
          "output_type": "stream",
          "name": "stdout",
          "text": [
            "The length of testing sequence is:  216\n"
          ]
        }
      ]
    },
    {
      "cell_type": "code",
      "source": [
        "# building the model\n",
        "\n",
        "from tensorflow.keras.layers import Input, Dense, Embedding, LSTM, GlobalMaxPooling1D\n",
        "from tensorflow.keras.models import Model"
      ],
      "metadata": {
        "id": "REEvSeEis2AH"
      },
      "execution_count": 85,
      "outputs": []
    },
    {
      "cell_type": "code",
      "source": [
        "D = 20 \n",
        "M = 15\n",
        "\n",
        "i = Input (shape=(T, ))   \n",
        "x = Embedding(V+1, D)(i)    # V+1 because the indexing of the words in vocab (V) start from 1 not 0\n",
        "x = LSTM(M, return_sequences=True)(x)\n",
        "x = GlobalMaxPooling1D()(x)\n",
        "x = Dense(32, activation='relu')(x)\n",
        "x = Dense(1, activation='sigmoid')(x)\n",
        "\n",
        "model = Model(i,x)"
      ],
      "metadata": {
        "id": "_-xVfNHgs6iv"
      },
      "execution_count": 86,
      "outputs": []
    },
    {
      "cell_type": "code",
      "source": [
        "model.summary()"
      ],
      "metadata": {
        "colab": {
          "base_uri": "https://localhost:8080/"
        },
        "id": "EjDoDXehyL6K",
        "outputId": "fa5a2e6b-dd78-40dc-bed6-7b90be1c128d"
      },
      "execution_count": 106,
      "outputs": [
        {
          "output_type": "stream",
          "name": "stdout",
          "text": [
            "Model: \"model_4\"\n",
            "_________________________________________________________________\n",
            " Layer (type)                Output Shape              Param #   \n",
            "=================================================================\n",
            " input_6 (InputLayer)        [(None, 216)]             0         \n",
            "                                                                 \n",
            " embedding_5 (Embedding)     (None, 216, 20)           86060     \n",
            "                                                                 \n",
            " lstm_1 (LSTM)               (None, 216, 15)           2160      \n",
            "                                                                 \n",
            " global_max_pooling1d_5 (Glo  (None, 15)               0         \n",
            " balMaxPooling1D)                                                \n",
            "                                                                 \n",
            " dense_10 (Dense)            (None, 32)                512       \n",
            "                                                                 \n",
            " dense_11 (Dense)            (None, 1)                 33        \n",
            "                                                                 \n",
            "=================================================================\n",
            "Total params: 88,765\n",
            "Trainable params: 88,765\n",
            "Non-trainable params: 0\n",
            "_________________________________________________________________\n"
          ]
        }
      ]
    },
    {
      "cell_type": "code",
      "source": [
        "# compiling the model\n",
        "model.compile(optimizer='adam', \n",
        "              loss='binary_crossentropy', \n",
        "              metrics=['accuracy'])\n"
      ],
      "metadata": {
        "id": "4YeKpoLzs-TP"
      },
      "execution_count": 87,
      "outputs": []
    },
    {
      "cell_type": "code",
      "source": [
        "r = model.fit(pad_train, y_train, validation_data=(pad_test, y_test), epochs=100)\n",
        "#r = model.fit(pad_train, y_train,validation_split=0.1, epochs=10)\n"
      ],
      "metadata": {
        "colab": {
          "base_uri": "https://localhost:8080/"
        },
        "id": "7SED93p-tA7J",
        "outputId": "3c516a6b-52ac-4dd4-e8e4-041a9d814500"
      },
      "execution_count": 123,
      "outputs": [
        {
          "output_type": "stream",
          "name": "stdout",
          "text": [
            "Epoch 1/100\n",
            "49/49 [==============================] - 2s 48ms/step - loss: 7.8006e-06 - accuracy: 1.0000 - val_loss: 0.3622 - val_accuracy: 0.9592\n",
            "Epoch 2/100\n",
            "49/49 [==============================] - 2s 43ms/step - loss: 7.6902e-06 - accuracy: 1.0000 - val_loss: 0.3653 - val_accuracy: 0.9592\n",
            "Epoch 3/100\n",
            "49/49 [==============================] - 2s 41ms/step - loss: 7.4724e-06 - accuracy: 1.0000 - val_loss: 0.3642 - val_accuracy: 0.9592\n",
            "Epoch 4/100\n",
            "49/49 [==============================] - 2s 42ms/step - loss: 7.1642e-06 - accuracy: 1.0000 - val_loss: 0.3649 - val_accuracy: 0.9592\n",
            "Epoch 5/100\n",
            "49/49 [==============================] - 2s 42ms/step - loss: 7.1668e-06 - accuracy: 1.0000 - val_loss: 0.3650 - val_accuracy: 0.9617\n",
            "Epoch 6/100\n",
            "49/49 [==============================] - 2s 41ms/step - loss: 6.7735e-06 - accuracy: 1.0000 - val_loss: 0.3683 - val_accuracy: 0.9592\n",
            "Epoch 7/100\n",
            "49/49 [==============================] - 2s 41ms/step - loss: 6.5868e-06 - accuracy: 1.0000 - val_loss: 0.3695 - val_accuracy: 0.9592\n",
            "Epoch 8/100\n",
            "49/49 [==============================] - 2s 39ms/step - loss: 6.3285e-06 - accuracy: 1.0000 - val_loss: 0.3696 - val_accuracy: 0.9592\n",
            "Epoch 9/100\n",
            "49/49 [==============================] - 2s 37ms/step - loss: 6.2277e-06 - accuracy: 1.0000 - val_loss: 0.3715 - val_accuracy: 0.9592\n",
            "Epoch 10/100\n",
            "49/49 [==============================] - 2s 38ms/step - loss: 5.9714e-06 - accuracy: 1.0000 - val_loss: 0.3717 - val_accuracy: 0.9592\n",
            "Epoch 11/100\n",
            "49/49 [==============================] - 2s 37ms/step - loss: 5.9680e-06 - accuracy: 1.0000 - val_loss: 0.3734 - val_accuracy: 0.9592\n",
            "Epoch 12/100\n",
            "49/49 [==============================] - 2s 37ms/step - loss: 5.6515e-06 - accuracy: 1.0000 - val_loss: 0.3717 - val_accuracy: 0.9617\n",
            "Epoch 13/100\n",
            "49/49 [==============================] - 2s 37ms/step - loss: 5.4851e-06 - accuracy: 1.0000 - val_loss: 0.3747 - val_accuracy: 0.9592\n",
            "Epoch 14/100\n",
            "49/49 [==============================] - 2s 37ms/step - loss: 5.3736e-06 - accuracy: 1.0000 - val_loss: 0.3768 - val_accuracy: 0.9592\n",
            "Epoch 15/100\n",
            "49/49 [==============================] - 2s 38ms/step - loss: 5.2236e-06 - accuracy: 1.0000 - val_loss: 0.3791 - val_accuracy: 0.9592\n",
            "Epoch 16/100\n",
            "49/49 [==============================] - 2s 37ms/step - loss: 5.1496e-06 - accuracy: 1.0000 - val_loss: 0.3792 - val_accuracy: 0.9592\n",
            "Epoch 17/100\n",
            "49/49 [==============================] - 2s 38ms/step - loss: 4.9237e-06 - accuracy: 1.0000 - val_loss: 0.3792 - val_accuracy: 0.9592\n",
            "Epoch 18/100\n",
            "49/49 [==============================] - 2s 38ms/step - loss: 4.8315e-06 - accuracy: 1.0000 - val_loss: 0.3816 - val_accuracy: 0.9592\n",
            "Epoch 19/100\n",
            "49/49 [==============================] - 2s 38ms/step - loss: 4.6624e-06 - accuracy: 1.0000 - val_loss: 0.3831 - val_accuracy: 0.9592\n",
            "Epoch 20/100\n",
            "49/49 [==============================] - 2s 38ms/step - loss: 4.6041e-06 - accuracy: 1.0000 - val_loss: 0.3838 - val_accuracy: 0.9592\n",
            "Epoch 21/100\n",
            "49/49 [==============================] - 2s 38ms/step - loss: 4.5348e-06 - accuracy: 1.0000 - val_loss: 0.3826 - val_accuracy: 0.9592\n",
            "Epoch 22/100\n",
            "49/49 [==============================] - 2s 37ms/step - loss: 4.2785e-06 - accuracy: 1.0000 - val_loss: 0.3852 - val_accuracy: 0.9592\n",
            "Epoch 23/100\n",
            "49/49 [==============================] - 2s 37ms/step - loss: 4.2008e-06 - accuracy: 1.0000 - val_loss: 0.3852 - val_accuracy: 0.9592\n",
            "Epoch 24/100\n",
            "49/49 [==============================] - 2s 38ms/step - loss: 4.1348e-06 - accuracy: 1.0000 - val_loss: 0.3878 - val_accuracy: 0.9592\n",
            "Epoch 25/100\n",
            "49/49 [==============================] - 2s 37ms/step - loss: 3.9389e-06 - accuracy: 1.0000 - val_loss: 0.3884 - val_accuracy: 0.9592\n",
            "Epoch 26/100\n",
            "49/49 [==============================] - 2s 37ms/step - loss: 3.8434e-06 - accuracy: 1.0000 - val_loss: 0.3896 - val_accuracy: 0.9592\n",
            "Epoch 27/100\n",
            "49/49 [==============================] - 2s 37ms/step - loss: 3.6975e-06 - accuracy: 1.0000 - val_loss: 0.3900 - val_accuracy: 0.9592\n",
            "Epoch 28/100\n",
            "49/49 [==============================] - 2s 37ms/step - loss: 3.5953e-06 - accuracy: 1.0000 - val_loss: 0.3915 - val_accuracy: 0.9592\n",
            "Epoch 29/100\n",
            "49/49 [==============================] - 2s 37ms/step - loss: 3.5056e-06 - accuracy: 1.0000 - val_loss: 0.3896 - val_accuracy: 0.9592\n",
            "Epoch 30/100\n",
            "49/49 [==============================] - 2s 37ms/step - loss: 3.4428e-06 - accuracy: 1.0000 - val_loss: 0.3937 - val_accuracy: 0.9592\n",
            "Epoch 31/100\n",
            "49/49 [==============================] - 2s 37ms/step - loss: 3.2962e-06 - accuracy: 1.0000 - val_loss: 0.3921 - val_accuracy: 0.9592\n",
            "Epoch 32/100\n",
            "49/49 [==============================] - 2s 37ms/step - loss: 3.2581e-06 - accuracy: 1.0000 - val_loss: 0.3938 - val_accuracy: 0.9592\n",
            "Epoch 33/100\n",
            "49/49 [==============================] - 2s 37ms/step - loss: 3.0992e-06 - accuracy: 1.0000 - val_loss: 0.3960 - val_accuracy: 0.9592\n",
            "Epoch 34/100\n",
            "49/49 [==============================] - 2s 37ms/step - loss: 3.0847e-06 - accuracy: 1.0000 - val_loss: 0.3974 - val_accuracy: 0.9592\n",
            "Epoch 35/100\n",
            "49/49 [==============================] - 2s 37ms/step - loss: 2.9643e-06 - accuracy: 1.0000 - val_loss: 0.3961 - val_accuracy: 0.9592\n",
            "Epoch 36/100\n",
            "49/49 [==============================] - 2s 38ms/step - loss: 2.8754e-06 - accuracy: 1.0000 - val_loss: 0.3993 - val_accuracy: 0.9592\n",
            "Epoch 37/100\n",
            "49/49 [==============================] - 2s 38ms/step - loss: 2.8491e-06 - accuracy: 1.0000 - val_loss: 0.4006 - val_accuracy: 0.9592\n",
            "Epoch 38/100\n",
            "49/49 [==============================] - 2s 38ms/step - loss: 2.7237e-06 - accuracy: 1.0000 - val_loss: 0.4016 - val_accuracy: 0.9592\n",
            "Epoch 39/100\n",
            "49/49 [==============================] - 2s 37ms/step - loss: 2.6625e-06 - accuracy: 1.0000 - val_loss: 0.4046 - val_accuracy: 0.9592\n",
            "Epoch 40/100\n",
            "49/49 [==============================] - 2s 37ms/step - loss: 2.5655e-06 - accuracy: 1.0000 - val_loss: 0.4003 - val_accuracy: 0.9592\n",
            "Epoch 41/100\n",
            "49/49 [==============================] - 2s 37ms/step - loss: 2.4750e-06 - accuracy: 1.0000 - val_loss: 0.4049 - val_accuracy: 0.9592\n",
            "Epoch 42/100\n",
            "49/49 [==============================] - 2s 37ms/step - loss: 2.4388e-06 - accuracy: 1.0000 - val_loss: 0.4066 - val_accuracy: 0.9592\n",
            "Epoch 43/100\n",
            "49/49 [==============================] - 2s 44ms/step - loss: 2.3516e-06 - accuracy: 1.0000 - val_loss: 0.4078 - val_accuracy: 0.9592\n",
            "Epoch 44/100\n",
            "49/49 [==============================] - 2s 38ms/step - loss: 2.3164e-06 - accuracy: 1.0000 - val_loss: 0.4076 - val_accuracy: 0.9592\n",
            "Epoch 45/100\n",
            "49/49 [==============================] - 2s 38ms/step - loss: 2.2464e-06 - accuracy: 1.0000 - val_loss: 0.4067 - val_accuracy: 0.9592\n",
            "Epoch 46/100\n",
            "49/49 [==============================] - 2s 37ms/step - loss: 2.1605e-06 - accuracy: 1.0000 - val_loss: 0.4098 - val_accuracy: 0.9592\n",
            "Epoch 47/100\n",
            "49/49 [==============================] - 2s 37ms/step - loss: 2.1269e-06 - accuracy: 1.0000 - val_loss: 0.4100 - val_accuracy: 0.9592\n",
            "Epoch 48/100\n",
            "49/49 [==============================] - 2s 37ms/step - loss: 2.0681e-06 - accuracy: 1.0000 - val_loss: 0.4127 - val_accuracy: 0.9592\n",
            "Epoch 49/100\n",
            "49/49 [==============================] - 2s 37ms/step - loss: 2.0664e-06 - accuracy: 1.0000 - val_loss: 0.4113 - val_accuracy: 0.9592\n",
            "Epoch 50/100\n",
            "49/49 [==============================] - 2s 38ms/step - loss: 1.9647e-06 - accuracy: 1.0000 - val_loss: 0.4116 - val_accuracy: 0.9592\n",
            "Epoch 51/100\n",
            "49/49 [==============================] - 2s 37ms/step - loss: 1.8919e-06 - accuracy: 1.0000 - val_loss: 0.4155 - val_accuracy: 0.9592\n",
            "Epoch 52/100\n",
            "49/49 [==============================] - 2s 37ms/step - loss: 1.8966e-06 - accuracy: 1.0000 - val_loss: 0.4137 - val_accuracy: 0.9592\n",
            "Epoch 53/100\n",
            "49/49 [==============================] - 2s 38ms/step - loss: 1.7824e-06 - accuracy: 1.0000 - val_loss: 0.4152 - val_accuracy: 0.9592\n",
            "Epoch 54/100\n",
            "49/49 [==============================] - 2s 38ms/step - loss: 1.8067e-06 - accuracy: 1.0000 - val_loss: 0.4150 - val_accuracy: 0.9592\n",
            "Epoch 55/100\n",
            "49/49 [==============================] - 2s 38ms/step - loss: 1.6901e-06 - accuracy: 1.0000 - val_loss: 0.4205 - val_accuracy: 0.9592\n",
            "Epoch 56/100\n",
            "49/49 [==============================] - 2s 38ms/step - loss: 1.6602e-06 - accuracy: 1.0000 - val_loss: 0.4205 - val_accuracy: 0.9592\n",
            "Epoch 57/100\n",
            "49/49 [==============================] - 2s 46ms/step - loss: 1.6511e-06 - accuracy: 1.0000 - val_loss: 0.4237 - val_accuracy: 0.9592\n",
            "Epoch 58/100\n",
            "49/49 [==============================] - 2s 38ms/step - loss: 1.5530e-06 - accuracy: 1.0000 - val_loss: 0.4196 - val_accuracy: 0.9592\n",
            "Epoch 59/100\n",
            "49/49 [==============================] - 2s 37ms/step - loss: 1.4966e-06 - accuracy: 1.0000 - val_loss: 0.4240 - val_accuracy: 0.9592\n",
            "Epoch 60/100\n",
            "49/49 [==============================] - 2s 38ms/step - loss: 1.5074e-06 - accuracy: 1.0000 - val_loss: 0.4227 - val_accuracy: 0.9592\n",
            "Epoch 61/100\n",
            "49/49 [==============================] - 2s 38ms/step - loss: 1.4581e-06 - accuracy: 1.0000 - val_loss: 0.4229 - val_accuracy: 0.9592\n",
            "Epoch 62/100\n",
            "49/49 [==============================] - 2s 38ms/step - loss: 1.4473e-06 - accuracy: 1.0000 - val_loss: 0.4235 - val_accuracy: 0.9592\n",
            "Epoch 63/100\n",
            "49/49 [==============================] - 2s 38ms/step - loss: 1.4142e-06 - accuracy: 1.0000 - val_loss: 0.4241 - val_accuracy: 0.9592\n",
            "Epoch 64/100\n",
            "49/49 [==============================] - 2s 37ms/step - loss: 1.3189e-06 - accuracy: 1.0000 - val_loss: 0.4265 - val_accuracy: 0.9592\n",
            "Epoch 65/100\n",
            "49/49 [==============================] - 2s 38ms/step - loss: 1.3308e-06 - accuracy: 1.0000 - val_loss: 0.4308 - val_accuracy: 0.9592\n",
            "Epoch 66/100\n",
            "49/49 [==============================] - 2s 38ms/step - loss: 1.2942e-06 - accuracy: 1.0000 - val_loss: 0.4284 - val_accuracy: 0.9592\n",
            "Epoch 67/100\n",
            "49/49 [==============================] - 2s 38ms/step - loss: 1.2070e-06 - accuracy: 1.0000 - val_loss: 0.4303 - val_accuracy: 0.9592\n",
            "Epoch 68/100\n",
            "49/49 [==============================] - 2s 38ms/step - loss: 1.1847e-06 - accuracy: 1.0000 - val_loss: 0.4303 - val_accuracy: 0.9592\n",
            "Epoch 69/100\n",
            "49/49 [==============================] - 2s 37ms/step - loss: 1.1613e-06 - accuracy: 1.0000 - val_loss: 0.4323 - val_accuracy: 0.9592\n",
            "Epoch 70/100\n",
            "49/49 [==============================] - 2s 37ms/step - loss: 1.1037e-06 - accuracy: 1.0000 - val_loss: 0.4334 - val_accuracy: 0.9592\n",
            "Epoch 71/100\n",
            "49/49 [==============================] - 2s 38ms/step - loss: 1.1055e-06 - accuracy: 1.0000 - val_loss: 0.4371 - val_accuracy: 0.9592\n",
            "Epoch 72/100\n",
            "49/49 [==============================] - 2s 37ms/step - loss: 1.0717e-06 - accuracy: 1.0000 - val_loss: 0.4357 - val_accuracy: 0.9592\n",
            "Epoch 73/100\n",
            "49/49 [==============================] - 2s 38ms/step - loss: 1.0537e-06 - accuracy: 1.0000 - val_loss: 0.4342 - val_accuracy: 0.9592\n",
            "Epoch 74/100\n",
            "49/49 [==============================] - 2s 38ms/step - loss: 9.9221e-07 - accuracy: 1.0000 - val_loss: 0.4383 - val_accuracy: 0.9592\n",
            "Epoch 75/100\n",
            "49/49 [==============================] - 2s 38ms/step - loss: 9.7874e-07 - accuracy: 1.0000 - val_loss: 0.4388 - val_accuracy: 0.9592\n",
            "Epoch 76/100\n",
            "49/49 [==============================] - 2s 38ms/step - loss: 9.7746e-07 - accuracy: 1.0000 - val_loss: 0.4412 - val_accuracy: 0.9592\n",
            "Epoch 77/100\n",
            "49/49 [==============================] - 2s 38ms/step - loss: 9.2231e-07 - accuracy: 1.0000 - val_loss: 0.4399 - val_accuracy: 0.9592\n",
            "Epoch 78/100\n",
            "49/49 [==============================] - 2s 37ms/step - loss: 9.0147e-07 - accuracy: 1.0000 - val_loss: 0.4430 - val_accuracy: 0.9592\n",
            "Epoch 79/100\n",
            "49/49 [==============================] - 2s 38ms/step - loss: 9.0138e-07 - accuracy: 1.0000 - val_loss: 0.4413 - val_accuracy: 0.9592\n",
            "Epoch 80/100\n",
            "49/49 [==============================] - 2s 38ms/step - loss: 8.6112e-07 - accuracy: 1.0000 - val_loss: 0.4427 - val_accuracy: 0.9592\n",
            "Epoch 81/100\n",
            "49/49 [==============================] - 2s 37ms/step - loss: 8.3961e-07 - accuracy: 1.0000 - val_loss: 0.4458 - val_accuracy: 0.9592\n",
            "Epoch 82/100\n",
            "49/49 [==============================] - 2s 37ms/step - loss: 8.1400e-07 - accuracy: 1.0000 - val_loss: 0.4461 - val_accuracy: 0.9592\n",
            "Epoch 83/100\n",
            "49/49 [==============================] - 2s 38ms/step - loss: 7.9796e-07 - accuracy: 1.0000 - val_loss: 0.4493 - val_accuracy: 0.9592\n",
            "Epoch 84/100\n",
            "49/49 [==============================] - 2s 38ms/step - loss: 7.7722e-07 - accuracy: 1.0000 - val_loss: 0.4497 - val_accuracy: 0.9592\n",
            "Epoch 85/100\n",
            "49/49 [==============================] - 2s 37ms/step - loss: 7.4406e-07 - accuracy: 1.0000 - val_loss: 0.4503 - val_accuracy: 0.9592\n",
            "Epoch 86/100\n",
            "49/49 [==============================] - 2s 37ms/step - loss: 7.2408e-07 - accuracy: 1.0000 - val_loss: 0.4487 - val_accuracy: 0.9592\n",
            "Epoch 87/100\n",
            "49/49 [==============================] - 2s 38ms/step - loss: 7.3228e-07 - accuracy: 1.0000 - val_loss: 0.4528 - val_accuracy: 0.9592\n",
            "Epoch 88/100\n",
            "49/49 [==============================] - 2s 38ms/step - loss: 6.7545e-07 - accuracy: 1.0000 - val_loss: 0.4505 - val_accuracy: 0.9592\n",
            "Epoch 89/100\n",
            "49/49 [==============================] - 2s 37ms/step - loss: 6.7723e-07 - accuracy: 1.0000 - val_loss: 0.4548 - val_accuracy: 0.9592\n",
            "Epoch 90/100\n",
            "49/49 [==============================] - 2s 38ms/step - loss: 6.7614e-07 - accuracy: 1.0000 - val_loss: 0.4527 - val_accuracy: 0.9592\n",
            "Epoch 91/100\n",
            "49/49 [==============================] - 2s 38ms/step - loss: 6.4269e-07 - accuracy: 1.0000 - val_loss: 0.4544 - val_accuracy: 0.9592\n",
            "Epoch 92/100\n",
            "49/49 [==============================] - 2s 37ms/step - loss: 6.2973e-07 - accuracy: 1.0000 - val_loss: 0.4539 - val_accuracy: 0.9592\n",
            "Epoch 93/100\n",
            "49/49 [==============================] - 2s 38ms/step - loss: 6.0534e-07 - accuracy: 1.0000 - val_loss: 0.4557 - val_accuracy: 0.9592\n",
            "Epoch 94/100\n",
            "49/49 [==============================] - 2s 38ms/step - loss: 5.7803e-07 - accuracy: 1.0000 - val_loss: 0.4592 - val_accuracy: 0.9592\n",
            "Epoch 95/100\n",
            "49/49 [==============================] - 2s 37ms/step - loss: 5.6195e-07 - accuracy: 1.0000 - val_loss: 0.4603 - val_accuracy: 0.9592\n",
            "Epoch 96/100\n",
            "49/49 [==============================] - 2s 38ms/step - loss: 5.5778e-07 - accuracy: 1.0000 - val_loss: 0.4604 - val_accuracy: 0.9592\n",
            "Epoch 97/100\n",
            "49/49 [==============================] - 2s 38ms/step - loss: 5.4428e-07 - accuracy: 1.0000 - val_loss: 0.4614 - val_accuracy: 0.9592\n",
            "Epoch 98/100\n",
            "49/49 [==============================] - 2s 37ms/step - loss: 5.2122e-07 - accuracy: 1.0000 - val_loss: 0.4624 - val_accuracy: 0.9592\n",
            "Epoch 99/100\n",
            "49/49 [==============================] - 2s 37ms/step - loss: 5.1304e-07 - accuracy: 1.0000 - val_loss: 0.4634 - val_accuracy: 0.9592\n",
            "Epoch 100/100\n",
            "49/49 [==============================] - 2s 37ms/step - loss: 4.9588e-07 - accuracy: 1.0000 - val_loss: 0.4635 - val_accuracy: 0.9592\n"
          ]
        }
      ]
    },
    {
      "cell_type": "code",
      "source": [
        "model.evaluate(pad_test,y_test)"
      ],
      "metadata": {
        "colab": {
          "base_uri": "https://localhost:8080/"
        },
        "id": "r14-iRKYtVq5",
        "outputId": "aee40210-cfe6-41bf-f604-cf495ef833d8"
      },
      "execution_count": 124,
      "outputs": [
        {
          "output_type": "stream",
          "name": "stdout",
          "text": [
            "13/13 [==============================] - 0s 17ms/step - loss: 0.4635 - accuracy: 0.9592\n"
          ]
        },
        {
          "output_type": "execute_result",
          "data": {
            "text/plain": [
              "[0.4635026156902313, 0.9591836929321289]"
            ]
          },
          "metadata": {},
          "execution_count": 124
        }
      ]
    },
    {
      "cell_type": "code",
      "source": [
        "def predict_sentiment(text):\n",
        "  # preprocessing the given text \n",
        "  text_seq = tokenizer.texts_to_sequences(text)\n",
        "  text_pad = pad_sequences(text_seq, maxlen=T)"
      ],
      "metadata": {
        "id": "zrTpVWIRtsrV"
      },
      "execution_count": 125,
      "outputs": []
    },
    {
      "cell_type": "code",
      "source": [
        "y_pred= model.predict(pad_test)\n",
        "y_pred=y_pred.flatten()"
      ],
      "metadata": {
        "id": "INk8wQ8Lt4Zc"
      },
      "execution_count": 126,
      "outputs": []
    },
    {
      "cell_type": "code",
      "source": [
        "import numpy as np\n",
        "\n",
        "\n",
        "y_pred=np.where(y_pred>0.5,1,0)\n",
        "y_pred"
      ],
      "metadata": {
        "colab": {
          "base_uri": "https://localhost:8080/"
        },
        "id": "ROCyjN1EuWBg",
        "outputId": "a88985ee-bc96-4b18-d18d-5ad45973ed0c"
      },
      "execution_count": 127,
      "outputs": [
        {
          "output_type": "execute_result",
          "data": {
            "text/plain": [
              "array([0, 1, 0, 1, 0, 0, 0, 1, 1, 1, 1, 0, 0, 1, 0, 0, 0, 0, 1, 1, 0, 0,\n",
              "       1, 1, 0, 0, 0, 1, 0, 1, 1, 1, 0, 1, 1, 1, 0, 0, 0, 1, 1, 1, 0, 0,\n",
              "       1, 1, 1, 1, 0, 0, 1, 0, 0, 0, 0, 0, 0, 0, 0, 1, 1, 0, 0, 1, 1, 0,\n",
              "       0, 0, 1, 1, 0, 0, 0, 1, 1, 0, 1, 1, 0, 0, 0, 1, 1, 0, 1, 1, 0, 0,\n",
              "       0, 0, 0, 1, 1, 0, 1, 1, 1, 1, 0, 1, 1, 1, 0, 0, 0, 0, 1, 1, 1, 1,\n",
              "       1, 0, 0, 1, 0, 1, 1, 1, 1, 1, 0, 1, 0, 1, 1, 1, 0, 0, 1, 1, 0, 0,\n",
              "       0, 1, 0, 0, 0, 0, 0, 0, 0, 1, 0, 1, 1, 0, 1, 0, 1, 1, 0, 0, 0, 1,\n",
              "       0, 0, 0, 1, 0, 0, 1, 0, 1, 1, 1, 1, 0, 1, 0, 0, 0, 0, 0, 1, 1, 1,\n",
              "       0, 1, 0, 0, 0, 1, 1, 1, 0, 0, 1, 1, 0, 0, 0, 1, 1, 0, 1, 1, 0, 1,\n",
              "       0, 0, 1, 1, 0, 0, 0, 0, 0, 0, 0, 1, 0, 0, 0, 0, 0, 0, 0, 1, 0, 1,\n",
              "       0, 0, 0, 0, 0, 1, 1, 1, 0, 1, 1, 0, 1, 1, 1, 1, 0, 1, 1, 0, 1, 0,\n",
              "       1, 1, 1, 1, 1, 1, 0, 1, 1, 0, 0, 0, 0, 1, 0, 1, 0, 1, 1, 0, 1, 1,\n",
              "       0, 0, 1, 1, 0, 0, 1, 0, 1, 0, 0, 1, 1, 1, 0, 0, 0, 0, 1, 1, 0, 1,\n",
              "       0, 0, 0, 0, 0, 1, 1, 0, 1, 0, 0, 1, 1, 1, 1, 1, 0, 1, 1, 1, 1, 0,\n",
              "       1, 0, 1, 1, 1, 1, 1, 0, 0, 0, 0, 0, 1, 1, 1, 1, 0, 1, 1, 0, 1, 1,\n",
              "       0, 1, 0, 0, 0, 0, 1, 1, 1, 1, 0, 0, 0, 1, 1, 1, 0, 0, 0, 0, 0, 0,\n",
              "       1, 1, 1, 1, 1, 0, 1, 1, 1, 0, 1, 1, 0, 1, 0, 1, 0, 0, 1, 1, 0, 1,\n",
              "       0, 1, 0, 1, 0, 1, 1, 0, 0, 0, 0, 0, 1, 1, 0, 1, 0, 0])"
            ]
          },
          "metadata": {},
          "execution_count": 127
        }
      ]
    },
    {
      "cell_type": "code",
      "source": [
        "from sklearn.metrics import confusion_matrix, classification_report\n",
        "\n",
        "cm = confusion_matrix(y_test, y_pred)\n",
        "cm"
      ],
      "metadata": {
        "colab": {
          "base_uri": "https://localhost:8080/"
        },
        "id": "bOlItE2_uajf",
        "outputId": "2655e8ee-33c7-4d3a-87dd-43776fa99242"
      },
      "execution_count": 128,
      "outputs": [
        {
          "output_type": "execute_result",
          "data": {
            "text/plain": [
              "array([[187,   3],\n",
              "       [ 13, 189]])"
            ]
          },
          "metadata": {},
          "execution_count": 128
        }
      ]
    },
    {
      "cell_type": "code",
      "source": [
        "from matplotlib import pyplot as plt\n",
        "import seaborn as sn\n",
        "sn.heatmap(cm, annot=True, fmt='d')\n",
        "plt.xlabel('Predicted')\n",
        "plt.ylabel('Truth')"
      ],
      "metadata": {
        "colab": {
          "base_uri": "https://localhost:8080/",
          "height": 296
        },
        "id": "J3oYzJP7uhHP",
        "outputId": "1b770ff4-e5d9-4471-ca27-34f5753b38d3"
      },
      "execution_count": 129,
      "outputs": [
        {
          "output_type": "execute_result",
          "data": {
            "text/plain": [
              "Text(33.0, 0.5, 'Truth')"
            ]
          },
          "metadata": {},
          "execution_count": 129
        },
        {
          "output_type": "display_data",
          "data": {
            "image/png": "[encoded data removed]",
            "text/plain": [
              "<Figure size 432x288 with 2 Axes>"
            ]
          },
          "metadata": {
            "needs_background": "light"
          }
        }
      ]
    },
    {
      "cell_type": "code",
      "source": [
        "from sklearn import metrics\n",
        "print(metrics.classification_report(y_pred, y_test))"
      ],
      "metadata": {
        "colab": {
          "base_uri": "https://localhost:8080/"
        },
        "id": "dAx8cOt1ul1H",
        "outputId": "fc095edb-ef8e-418f-e2f9-11b38c673caa"
      },
      "execution_count": 130,
      "outputs": [
        {
          "output_type": "stream",
          "name": "stdout",
          "text": [
            "              precision    recall  f1-score   support\n",
            "\n",
            "           0       0.98      0.94      0.96       200\n",
            "           1       0.94      0.98      0.96       192\n",
            "\n",
            "    accuracy                           0.96       392\n",
            "   macro avg       0.96      0.96      0.96       392\n",
            "weighted avg       0.96      0.96      0.96       392\n",
            "\n"
          ]
        }
      ]
    },
    {
      "cell_type": "code",
      "source": [
        "D = 20 \n",
        "M = 15\n",
        "\n",
        "i = Input (shape=(T, ))   \n",
        "x = Embedding(V+1, D)(i)    # V+1 because the indexing of the words in vocab (V) start from 1 not 0\n",
        "x = GRU(M, return_sequences=True)(x)\n",
        "x = GlobalMaxPooling1D()(x)\n",
        "x = Dense(32, activation='relu')(x)\n",
        "x = Dense(1, activation='sigmoid')(x)\n",
        "\n",
        "model1 = Model(i,x)"
      ],
      "metadata": {
        "id": "Dacqx4_Ktvr8"
      },
      "execution_count": 131,
      "outputs": []
    },
    {
      "cell_type": "code",
      "source": [
        "model1.summary()"
      ],
      "metadata": {
        "colab": {
          "base_uri": "https://localhost:8080/"
        },
        "id": "15b8YIWgyTHf",
        "outputId": "756e05db-297f-4339-c5a2-07855d77e6b0"
      },
      "execution_count": 132,
      "outputs": [
        {
          "output_type": "stream",
          "name": "stdout",
          "text": [
            "Model: \"model_9\"\n",
            "_________________________________________________________________\n",
            " Layer (type)                Output Shape              Param #   \n",
            "=================================================================\n",
            " input_11 (InputLayer)       [(None, 216)]             0         \n",
            "                                                                 \n",
            " embedding_10 (Embedding)    (None, 216, 20)           86060     \n",
            "                                                                 \n",
            " gru_8 (GRU)                 (None, 216, 15)           1665      \n",
            "                                                                 \n",
            " global_max_pooling1d_8 (Glo  (None, 15)               0         \n",
            " balMaxPooling1D)                                                \n",
            "                                                                 \n",
            " dense_20 (Dense)            (None, 32)                512       \n",
            "                                                                 \n",
            " dense_21 (Dense)            (None, 1)                 33        \n",
            "                                                                 \n",
            "=================================================================\n",
            "Total params: 88,270\n",
            "Trainable params: 88,270\n",
            "Non-trainable params: 0\n",
            "_________________________________________________________________\n"
          ]
        }
      ]
    },
    {
      "cell_type": "code",
      "source": [
        "# compiling the model\n",
        "model1.compile(optimizer='adam', \n",
        "              loss='binary_crossentropy', \n",
        "              metrics=['accuracy'])\n"
      ],
      "metadata": {
        "id": "YbK0Bn3ru0Yn"
      },
      "execution_count": 133,
      "outputs": []
    },
    {
      "cell_type": "code",
      "source": [
        "r = model1.fit(pad_train, y_train, validation_data=(pad_test, y_test), epochs=100)"
      ],
      "metadata": {
        "colab": {
          "base_uri": "https://localhost:8080/"
        },
        "id": "6YV6or57u523",
        "outputId": "0a28864f-8b78-415c-8847-43a2e2effc4f"
      },
      "execution_count": 134,
      "outputs": [
        {
          "output_type": "stream",
          "name": "stdout",
          "text": [
            "Epoch 1/100\n",
            "49/49 [==============================] - 5s 47ms/step - loss: 0.6823 - accuracy: 0.6458 - val_loss: 0.6533 - val_accuracy: 0.8980\n",
            "Epoch 2/100\n",
            "49/49 [==============================] - 2s 38ms/step - loss: 0.5360 - accuracy: 0.9258 - val_loss: 0.3478 - val_accuracy: 0.9235\n",
            "Epoch 3/100\n",
            "49/49 [==============================] - 2s 37ms/step - loss: 0.1934 - accuracy: 0.9520 - val_loss: 0.1550 - val_accuracy: 0.9464\n",
            "Epoch 4/100\n",
            "49/49 [==============================] - 2s 37ms/step - loss: 0.0793 - accuracy: 0.9751 - val_loss: 0.1263 - val_accuracy: 0.9515\n",
            "Epoch 5/100\n",
            "49/49 [==============================] - 2s 37ms/step - loss: 0.0468 - accuracy: 0.9872 - val_loss: 0.1218 - val_accuracy: 0.9592\n",
            "Epoch 6/100\n",
            "49/49 [==============================] - 2s 37ms/step - loss: 0.0306 - accuracy: 0.9930 - val_loss: 0.1406 - val_accuracy: 0.9592\n",
            "Epoch 7/100\n",
            "49/49 [==============================] - 2s 37ms/step - loss: 0.0211 - accuracy: 0.9955 - val_loss: 0.1264 - val_accuracy: 0.9592\n",
            "Epoch 8/100\n",
            "49/49 [==============================] - 2s 37ms/step - loss: 0.0160 - accuracy: 0.9968 - val_loss: 0.1464 - val_accuracy: 0.9592\n",
            "Epoch 9/100\n",
            "49/49 [==============================] - 2s 37ms/step - loss: 0.0134 - accuracy: 0.9974 - val_loss: 0.1475 - val_accuracy: 0.9617\n",
            "Epoch 10/100\n",
            "49/49 [==============================] - 2s 38ms/step - loss: 0.0101 - accuracy: 0.9981 - val_loss: 0.1332 - val_accuracy: 0.9617\n",
            "Epoch 11/100\n",
            "49/49 [==============================] - 2s 37ms/step - loss: 0.0051 - accuracy: 0.9994 - val_loss: 0.1575 - val_accuracy: 0.9592\n",
            "Epoch 12/100\n",
            "49/49 [==============================] - 2s 41ms/step - loss: 0.0025 - accuracy: 1.0000 - val_loss: 0.1683 - val_accuracy: 0.9592\n",
            "Epoch 13/100\n",
            "49/49 [==============================] - 2s 40ms/step - loss: 0.0018 - accuracy: 1.0000 - val_loss: 0.1807 - val_accuracy: 0.9592\n",
            "Epoch 14/100\n",
            "49/49 [==============================] - 2s 38ms/step - loss: 0.0014 - accuracy: 1.0000 - val_loss: 0.1873 - val_accuracy: 0.9592\n",
            "Epoch 15/100\n",
            "49/49 [==============================] - 2s 38ms/step - loss: 0.0011 - accuracy: 1.0000 - val_loss: 0.1914 - val_accuracy: 0.9592\n",
            "Epoch 16/100\n",
            "49/49 [==============================] - 2s 38ms/step - loss: 7.5449e-04 - accuracy: 1.0000 - val_loss: 0.2126 - val_accuracy: 0.9592\n",
            "Epoch 17/100\n",
            "49/49 [==============================] - 2s 37ms/step - loss: 5.9960e-04 - accuracy: 1.0000 - val_loss: 0.2119 - val_accuracy: 0.9592\n",
            "Epoch 18/100\n",
            "49/49 [==============================] - 2s 38ms/step - loss: 4.8555e-04 - accuracy: 1.0000 - val_loss: 0.2189 - val_accuracy: 0.9566\n",
            "Epoch 19/100\n",
            "49/49 [==============================] - 2s 38ms/step - loss: 4.0753e-04 - accuracy: 1.0000 - val_loss: 0.2246 - val_accuracy: 0.9566\n",
            "Epoch 20/100\n",
            "49/49 [==============================] - 2s 38ms/step - loss: 3.4760e-04 - accuracy: 1.0000 - val_loss: 0.2315 - val_accuracy: 0.9566\n",
            "Epoch 21/100\n",
            "49/49 [==============================] - 2s 38ms/step - loss: 3.0143e-04 - accuracy: 1.0000 - val_loss: 0.2384 - val_accuracy: 0.9566\n",
            "Epoch 22/100\n",
            "49/49 [==============================] - 2s 38ms/step - loss: 2.6294e-04 - accuracy: 1.0000 - val_loss: 0.2417 - val_accuracy: 0.9566\n",
            "Epoch 23/100\n",
            "49/49 [==============================] - 2s 38ms/step - loss: 2.3283e-04 - accuracy: 1.0000 - val_loss: 0.2450 - val_accuracy: 0.9566\n",
            "Epoch 24/100\n",
            "49/49 [==============================] - 2s 37ms/step - loss: 2.0934e-04 - accuracy: 1.0000 - val_loss: 0.2499 - val_accuracy: 0.9566\n",
            "Epoch 25/100\n",
            "49/49 [==============================] - 2s 38ms/step - loss: 1.8793e-04 - accuracy: 1.0000 - val_loss: 0.2546 - val_accuracy: 0.9566\n",
            "Epoch 26/100\n",
            "49/49 [==============================] - 2s 37ms/step - loss: 1.6853e-04 - accuracy: 1.0000 - val_loss: 0.2596 - val_accuracy: 0.9566\n",
            "Epoch 27/100\n",
            "49/49 [==============================] - 2s 37ms/step - loss: 1.5389e-04 - accuracy: 1.0000 - val_loss: 0.2632 - val_accuracy: 0.9566\n",
            "Epoch 28/100\n",
            "49/49 [==============================] - 2s 38ms/step - loss: 1.4089e-04 - accuracy: 1.0000 - val_loss: 0.2667 - val_accuracy: 0.9566\n",
            "Epoch 29/100\n",
            "49/49 [==============================] - 2s 37ms/step - loss: 1.2920e-04 - accuracy: 1.0000 - val_loss: 0.2705 - val_accuracy: 0.9566\n",
            "Epoch 30/100\n",
            "49/49 [==============================] - 2s 37ms/step - loss: 1.1827e-04 - accuracy: 1.0000 - val_loss: 0.2745 - val_accuracy: 0.9566\n",
            "Epoch 31/100\n",
            "49/49 [==============================] - 2s 37ms/step - loss: 1.0905e-04 - accuracy: 1.0000 - val_loss: 0.2772 - val_accuracy: 0.9566\n",
            "Epoch 32/100\n",
            "49/49 [==============================] - 2s 37ms/step - loss: 1.0131e-04 - accuracy: 1.0000 - val_loss: 0.2795 - val_accuracy: 0.9592\n",
            "Epoch 33/100\n",
            "49/49 [==============================] - 2s 38ms/step - loss: 9.3866e-05 - accuracy: 1.0000 - val_loss: 0.2834 - val_accuracy: 0.9566\n",
            "Epoch 34/100\n",
            "49/49 [==============================] - 2s 38ms/step - loss: 8.7297e-05 - accuracy: 1.0000 - val_loss: 0.2865 - val_accuracy: 0.9592\n",
            "Epoch 35/100\n",
            "49/49 [==============================] - 2s 38ms/step - loss: 8.1521e-05 - accuracy: 1.0000 - val_loss: 0.2898 - val_accuracy: 0.9592\n",
            "Epoch 36/100\n",
            "49/49 [==============================] - 2s 38ms/step - loss: 7.5964e-05 - accuracy: 1.0000 - val_loss: 0.2936 - val_accuracy: 0.9592\n",
            "Epoch 37/100\n",
            "49/49 [==============================] - 2s 38ms/step - loss: 7.1414e-05 - accuracy: 1.0000 - val_loss: 0.2979 - val_accuracy: 0.9566\n",
            "Epoch 38/100\n",
            "49/49 [==============================] - 2s 37ms/step - loss: 6.6878e-05 - accuracy: 1.0000 - val_loss: 0.2973 - val_accuracy: 0.9592\n",
            "Epoch 39/100\n",
            "49/49 [==============================] - 2s 38ms/step - loss: 6.2957e-05 - accuracy: 1.0000 - val_loss: 0.3009 - val_accuracy: 0.9592\n",
            "Epoch 40/100\n",
            "49/49 [==============================] - 2s 37ms/step - loss: 5.9188e-05 - accuracy: 1.0000 - val_loss: 0.3050 - val_accuracy: 0.9592\n",
            "Epoch 41/100\n",
            "49/49 [==============================] - 2s 37ms/step - loss: 5.5639e-05 - accuracy: 1.0000 - val_loss: 0.3060 - val_accuracy: 0.9592\n",
            "Epoch 42/100\n",
            "49/49 [==============================] - 2s 37ms/step - loss: 5.2594e-05 - accuracy: 1.0000 - val_loss: 0.3081 - val_accuracy: 0.9592\n",
            "Epoch 43/100\n",
            "49/49 [==============================] - 2s 37ms/step - loss: 4.9929e-05 - accuracy: 1.0000 - val_loss: 0.3100 - val_accuracy: 0.9592\n",
            "Epoch 44/100\n",
            "49/49 [==============================] - 2s 38ms/step - loss: 4.7083e-05 - accuracy: 1.0000 - val_loss: 0.3128 - val_accuracy: 0.9592\n",
            "Epoch 45/100\n",
            "49/49 [==============================] - 2s 38ms/step - loss: 4.4475e-05 - accuracy: 1.0000 - val_loss: 0.3148 - val_accuracy: 0.9592\n",
            "Epoch 46/100\n",
            "49/49 [==============================] - 2s 37ms/step - loss: 4.2208e-05 - accuracy: 1.0000 - val_loss: 0.3169 - val_accuracy: 0.9592\n",
            "Epoch 47/100\n",
            "49/49 [==============================] - 2s 38ms/step - loss: 3.9944e-05 - accuracy: 1.0000 - val_loss: 0.3184 - val_accuracy: 0.9592\n",
            "Epoch 48/100\n",
            "49/49 [==============================] - 2s 37ms/step - loss: 3.7847e-05 - accuracy: 1.0000 - val_loss: 0.3214 - val_accuracy: 0.9592\n",
            "Epoch 49/100\n",
            "49/49 [==============================] - 2s 38ms/step - loss: 3.6069e-05 - accuracy: 1.0000 - val_loss: 0.3231 - val_accuracy: 0.9592\n",
            "Epoch 50/100\n",
            "49/49 [==============================] - 2s 37ms/step - loss: 3.4271e-05 - accuracy: 1.0000 - val_loss: 0.3253 - val_accuracy: 0.9592\n",
            "Epoch 51/100\n",
            "49/49 [==============================] - 2s 38ms/step - loss: 3.2636e-05 - accuracy: 1.0000 - val_loss: 0.3273 - val_accuracy: 0.9592\n",
            "Epoch 52/100\n",
            "49/49 [==============================] - 2s 38ms/step - loss: 3.1150e-05 - accuracy: 1.0000 - val_loss: 0.3310 - val_accuracy: 0.9592\n",
            "Epoch 53/100\n",
            "49/49 [==============================] - 2s 45ms/step - loss: 2.9564e-05 - accuracy: 1.0000 - val_loss: 0.3301 - val_accuracy: 0.9592\n",
            "Epoch 54/100\n",
            "49/49 [==============================] - 2s 38ms/step - loss: 2.8199e-05 - accuracy: 1.0000 - val_loss: 0.3328 - val_accuracy: 0.9592\n",
            "Epoch 55/100\n",
            "49/49 [==============================] - 2s 38ms/step - loss: 2.6943e-05 - accuracy: 1.0000 - val_loss: 0.3345 - val_accuracy: 0.9592\n",
            "Epoch 56/100\n",
            "49/49 [==============================] - 2s 46ms/step - loss: 2.5704e-05 - accuracy: 1.0000 - val_loss: 0.3365 - val_accuracy: 0.9592\n",
            "Epoch 57/100\n",
            "49/49 [==============================] - 2s 37ms/step - loss: 2.4518e-05 - accuracy: 1.0000 - val_loss: 0.3389 - val_accuracy: 0.9592\n",
            "Epoch 58/100\n",
            "49/49 [==============================] - 2s 37ms/step - loss: 2.3634e-05 - accuracy: 1.0000 - val_loss: 0.3403 - val_accuracy: 0.9592\n",
            "Epoch 59/100\n",
            "49/49 [==============================] - 2s 38ms/step - loss: 2.2545e-05 - accuracy: 1.0000 - val_loss: 0.3413 - val_accuracy: 0.9566\n",
            "Epoch 60/100\n",
            "49/49 [==============================] - 2s 37ms/step - loss: 2.1637e-05 - accuracy: 1.0000 - val_loss: 0.3429 - val_accuracy: 0.9566\n",
            "Epoch 61/100\n",
            "49/49 [==============================] - 2s 38ms/step - loss: 2.0675e-05 - accuracy: 1.0000 - val_loss: 0.3448 - val_accuracy: 0.9566\n",
            "Epoch 62/100\n",
            "49/49 [==============================] - 2s 37ms/step - loss: 1.9808e-05 - accuracy: 1.0000 - val_loss: 0.3472 - val_accuracy: 0.9566\n",
            "Epoch 63/100\n",
            "49/49 [==============================] - 2s 38ms/step - loss: 1.9070e-05 - accuracy: 1.0000 - val_loss: 0.3484 - val_accuracy: 0.9566\n",
            "Epoch 64/100\n",
            "49/49 [==============================] - 2s 38ms/step - loss: 1.8209e-05 - accuracy: 1.0000 - val_loss: 0.3504 - val_accuracy: 0.9566\n",
            "Epoch 65/100\n",
            "49/49 [==============================] - 2s 37ms/step - loss: 1.7558e-05 - accuracy: 1.0000 - val_loss: 0.3512 - val_accuracy: 0.9566\n",
            "Epoch 66/100\n",
            "49/49 [==============================] - 2s 37ms/step - loss: 1.6807e-05 - accuracy: 1.0000 - val_loss: 0.3531 - val_accuracy: 0.9566\n",
            "Epoch 67/100\n",
            "49/49 [==============================] - 2s 38ms/step - loss: 1.6158e-05 - accuracy: 1.0000 - val_loss: 0.3545 - val_accuracy: 0.9566\n",
            "Epoch 68/100\n",
            "49/49 [==============================] - 2s 37ms/step - loss: 1.5543e-05 - accuracy: 1.0000 - val_loss: 0.3564 - val_accuracy: 0.9566\n",
            "Epoch 69/100\n",
            "49/49 [==============================] - 2s 38ms/step - loss: 1.4934e-05 - accuracy: 1.0000 - val_loss: 0.3572 - val_accuracy: 0.9566\n",
            "Epoch 70/100\n",
            "49/49 [==============================] - 2s 41ms/step - loss: 1.4382e-05 - accuracy: 1.0000 - val_loss: 0.3588 - val_accuracy: 0.9566\n",
            "Epoch 71/100\n",
            "49/49 [==============================] - 2s 38ms/step - loss: 1.3805e-05 - accuracy: 1.0000 - val_loss: 0.3613 - val_accuracy: 0.9566\n",
            "Epoch 72/100\n",
            "49/49 [==============================] - 2s 38ms/step - loss: 1.3325e-05 - accuracy: 1.0000 - val_loss: 0.3623 - val_accuracy: 0.9566\n",
            "Epoch 73/100\n",
            "49/49 [==============================] - 2s 38ms/step - loss: 1.2816e-05 - accuracy: 1.0000 - val_loss: 0.3640 - val_accuracy: 0.9566\n",
            "Epoch 74/100\n",
            "49/49 [==============================] - 2s 41ms/step - loss: 1.2384e-05 - accuracy: 1.0000 - val_loss: 0.3650 - val_accuracy: 0.9566\n",
            "Epoch 75/100\n",
            "49/49 [==============================] - 2s 38ms/step - loss: 1.1888e-05 - accuracy: 1.0000 - val_loss: 0.3666 - val_accuracy: 0.9566\n",
            "Epoch 76/100\n",
            "49/49 [==============================] - 2s 38ms/step - loss: 1.1490e-05 - accuracy: 1.0000 - val_loss: 0.3681 - val_accuracy: 0.9566\n",
            "Epoch 77/100\n",
            "49/49 [==============================] - 2s 38ms/step - loss: 1.1043e-05 - accuracy: 1.0000 - val_loss: 0.3691 - val_accuracy: 0.9566\n",
            "Epoch 78/100\n",
            "49/49 [==============================] - 2s 38ms/step - loss: 1.0660e-05 - accuracy: 1.0000 - val_loss: 0.3709 - val_accuracy: 0.9566\n",
            "Epoch 79/100\n",
            "49/49 [==============================] - 2s 38ms/step - loss: 1.0304e-05 - accuracy: 1.0000 - val_loss: 0.3730 - val_accuracy: 0.9566\n",
            "Epoch 80/100\n",
            "49/49 [==============================] - 2s 38ms/step - loss: 9.9012e-06 - accuracy: 1.0000 - val_loss: 0.3732 - val_accuracy: 0.9592\n",
            "Epoch 81/100\n",
            "49/49 [==============================] - 2s 37ms/step - loss: 9.5576e-06 - accuracy: 1.0000 - val_loss: 0.3747 - val_accuracy: 0.9592\n",
            "Epoch 82/100\n",
            "49/49 [==============================] - 2s 38ms/step - loss: 9.2561e-06 - accuracy: 1.0000 - val_loss: 0.3759 - val_accuracy: 0.9592\n",
            "Epoch 83/100\n",
            "49/49 [==============================] - 2s 37ms/step - loss: 8.9139e-06 - accuracy: 1.0000 - val_loss: 0.3773 - val_accuracy: 0.9592\n",
            "Epoch 84/100\n",
            "49/49 [==============================] - 2s 37ms/step - loss: 8.6500e-06 - accuracy: 1.0000 - val_loss: 0.3786 - val_accuracy: 0.9592\n",
            "Epoch 85/100\n",
            "49/49 [==============================] - 2s 38ms/step - loss: 8.3240e-06 - accuracy: 1.0000 - val_loss: 0.3798 - val_accuracy: 0.9592\n",
            "Epoch 86/100\n",
            "49/49 [==============================] - 2s 37ms/step - loss: 8.0436e-06 - accuracy: 1.0000 - val_loss: 0.3816 - val_accuracy: 0.9592\n",
            "Epoch 87/100\n",
            "49/49 [==============================] - 2s 38ms/step - loss: 7.7661e-06 - accuracy: 1.0000 - val_loss: 0.3831 - val_accuracy: 0.9592\n",
            "Epoch 88/100\n",
            "49/49 [==============================] - 2s 37ms/step - loss: 7.5333e-06 - accuracy: 1.0000 - val_loss: 0.3846 - val_accuracy: 0.9592\n",
            "Epoch 89/100\n",
            "49/49 [==============================] - 2s 38ms/step - loss: 7.2478e-06 - accuracy: 1.0000 - val_loss: 0.3859 - val_accuracy: 0.9592\n",
            "Epoch 90/100\n",
            "49/49 [==============================] - 2s 38ms/step - loss: 7.0437e-06 - accuracy: 1.0000 - val_loss: 0.3874 - val_accuracy: 0.9592\n",
            "Epoch 91/100\n",
            "49/49 [==============================] - 2s 37ms/step - loss: 6.7799e-06 - accuracy: 1.0000 - val_loss: 0.3889 - val_accuracy: 0.9592\n",
            "Epoch 92/100\n",
            "49/49 [==============================] - 2s 38ms/step - loss: 6.5849e-06 - accuracy: 1.0000 - val_loss: 0.3910 - val_accuracy: 0.9566\n",
            "Epoch 93/100\n",
            "49/49 [==============================] - 2s 38ms/step - loss: 6.3465e-06 - accuracy: 1.0000 - val_loss: 0.3932 - val_accuracy: 0.9566\n",
            "Epoch 94/100\n",
            "49/49 [==============================] - 2s 37ms/step - loss: 6.1526e-06 - accuracy: 1.0000 - val_loss: 0.3951 - val_accuracy: 0.9566\n",
            "Epoch 95/100\n",
            "49/49 [==============================] - 2s 38ms/step - loss: 5.9595e-06 - accuracy: 1.0000 - val_loss: 0.3984 - val_accuracy: 0.9566\n",
            "Epoch 96/100\n",
            "49/49 [==============================] - 2s 38ms/step - loss: 5.7531e-06 - accuracy: 1.0000 - val_loss: 0.3995 - val_accuracy: 0.9566\n",
            "Epoch 97/100\n",
            "49/49 [==============================] - 2s 38ms/step - loss: 5.5730e-06 - accuracy: 1.0000 - val_loss: 0.4049 - val_accuracy: 0.9566\n",
            "Epoch 98/100\n",
            "49/49 [==============================] - 2s 38ms/step - loss: 5.3953e-06 - accuracy: 1.0000 - val_loss: 0.4063 - val_accuracy: 0.9566\n",
            "Epoch 99/100\n",
            "49/49 [==============================] - 2s 37ms/step - loss: 5.2163e-06 - accuracy: 1.0000 - val_loss: 0.4095 - val_accuracy: 0.9566\n",
            "Epoch 100/100\n",
            "49/49 [==============================] - 2s 38ms/step - loss: 5.0723e-06 - accuracy: 1.0000 - val_loss: 0.4159 - val_accuracy: 0.9566\n"
          ]
        }
      ]
    },
    {
      "cell_type": "code",
      "source": [
        "model1.evaluate(pad_test,y_test)"
      ],
      "metadata": {
        "colab": {
          "base_uri": "https://localhost:8080/"
        },
        "id": "YDjFXKQNvcEC",
        "outputId": "2deccf23-25c2-4b5e-890a-af94f9d58da4"
      },
      "execution_count": 135,
      "outputs": [
        {
          "output_type": "stream",
          "name": "stdout",
          "text": [
            "13/13 [==============================] - 0s 14ms/step - loss: 0.4159 - accuracy: 0.9566\n"
          ]
        },
        {
          "output_type": "execute_result",
          "data": {
            "text/plain": [
              "[0.4159420132637024, 0.956632673740387]"
            ]
          },
          "metadata": {},
          "execution_count": 135
        }
      ]
    },
    {
      "cell_type": "code",
      "source": [
        "y_pred1= model1.predict(pad_test)\n",
        "y_pred1=y_pred1.flatten()"
      ],
      "metadata": {
        "id": "FV3VgR96vkVg"
      },
      "execution_count": 136,
      "outputs": []
    },
    {
      "cell_type": "code",
      "source": [
        "import numpy as np\n",
        "\n",
        "\n",
        "y_pred1=np.where(y_pred1>0.5,1,0)\n",
        "y_pred1"
      ],
      "metadata": {
        "colab": {
          "base_uri": "https://localhost:8080/"
        },
        "id": "Dfiu13yyvsjX",
        "outputId": "22c2adab-064f-4800-87f3-f5affc6b60ca"
      },
      "execution_count": 137,
      "outputs": [
        {
          "output_type": "execute_result",
          "data": {
            "text/plain": [
              "array([1, 1, 0, 1, 0, 0, 0, 1, 1, 1, 1, 1, 0, 1, 0, 0, 0, 0, 1, 1, 0, 0,\n",
              "       1, 1, 0, 0, 0, 1, 0, 1, 1, 1, 0, 1, 1, 1, 0, 0, 0, 1, 1, 1, 0, 0,\n",
              "       1, 1, 1, 1, 0, 0, 1, 0, 0, 0, 0, 0, 0, 0, 0, 1, 1, 0, 0, 1, 1, 0,\n",
              "       0, 0, 1, 1, 0, 0, 0, 1, 1, 0, 1, 1, 0, 0, 0, 1, 1, 0, 1, 1, 0, 0,\n",
              "       0, 1, 0, 1, 1, 0, 1, 1, 1, 1, 0, 1, 1, 1, 0, 0, 0, 0, 1, 1, 1, 1,\n",
              "       1, 0, 0, 1, 0, 1, 1, 1, 1, 1, 0, 1, 0, 1, 1, 1, 0, 0, 1, 1, 0, 0,\n",
              "       0, 1, 0, 0, 0, 0, 0, 0, 0, 1, 0, 1, 1, 0, 1, 0, 1, 1, 0, 0, 0, 1,\n",
              "       0, 0, 0, 1, 0, 0, 0, 0, 1, 0, 1, 1, 0, 1, 0, 0, 0, 0, 0, 1, 1, 1,\n",
              "       0, 1, 0, 0, 0, 1, 1, 1, 0, 0, 1, 1, 0, 0, 0, 1, 1, 0, 1, 1, 0, 1,\n",
              "       0, 0, 1, 1, 0, 0, 0, 0, 0, 1, 0, 1, 0, 0, 0, 0, 0, 0, 0, 1, 0, 1,\n",
              "       0, 0, 0, 0, 0, 1, 1, 1, 0, 1, 1, 0, 1, 1, 1, 1, 0, 1, 1, 0, 1, 0,\n",
              "       1, 1, 1, 1, 1, 1, 0, 1, 1, 0, 0, 0, 0, 1, 0, 1, 0, 1, 1, 0, 1, 1,\n",
              "       0, 0, 1, 1, 0, 0, 1, 0, 1, 0, 0, 1, 1, 1, 0, 0, 0, 0, 1, 1, 0, 1,\n",
              "       0, 0, 0, 0, 0, 1, 1, 0, 1, 0, 0, 1, 1, 1, 1, 1, 0, 1, 1, 1, 1, 0,\n",
              "       1, 0, 1, 1, 1, 1, 1, 0, 0, 0, 0, 0, 1, 1, 1, 1, 0, 1, 1, 0, 1, 1,\n",
              "       0, 1, 0, 0, 0, 0, 1, 1, 1, 1, 0, 0, 0, 1, 1, 1, 0, 0, 0, 0, 0, 0,\n",
              "       1, 1, 1, 1, 1, 1, 1, 1, 1, 0, 1, 1, 0, 1, 0, 1, 0, 0, 1, 1, 0, 1,\n",
              "       0, 1, 0, 1, 0, 1, 1, 0, 0, 0, 0, 0, 1, 1, 0, 1, 0, 0])"
            ]
          },
          "metadata": {},
          "execution_count": 137
        }
      ]
    },
    {
      "cell_type": "code",
      "source": [
        "from sklearn.metrics import confusion_matrix, classification_report\n",
        "\n",
        "cm1 = confusion_matrix(y_test, y_pred1)\n",
        "cm1"
      ],
      "metadata": {
        "colab": {
          "base_uri": "https://localhost:8080/"
        },
        "id": "OSWl7JsWv3hm",
        "outputId": "cb69c288-6eda-4f86-b4fb-2b2ed35e5971"
      },
      "execution_count": 138,
      "outputs": [
        {
          "output_type": "execute_result",
          "data": {
            "text/plain": [
              "array([[185,   5],\n",
              "       [ 12, 190]])"
            ]
          },
          "metadata": {},
          "execution_count": 138
        }
      ]
    },
    {
      "cell_type": "code",
      "source": [
        "from matplotlib import pyplot as plt\n",
        "import seaborn as sn\n",
        "sn.heatmap(cm1, annot=True, fmt='d')\n",
        "plt.xlabel('Predicted')\n",
        "plt.ylabel('Truth')"
      ],
      "metadata": {
        "colab": {
          "base_uri": "https://localhost:8080/",
          "height": 296
        },
        "id": "9NFb5U4cwBdZ",
        "outputId": "55cf17a8-3fc5-474b-8b99-7717d2612b5b"
      },
      "execution_count": 139,
      "outputs": [
        {
          "output_type": "execute_result",
          "data": {
            "text/plain": [
              "Text(33.0, 0.5, 'Truth')"
            ]
          },
          "metadata": {},
          "execution_count": 139
        },
        {
          "output_type": "display_data",
          "data": {
            "image/png": "[encoded data removed]",
            "text/plain": [
              "<Figure size 432x288 with 2 Axes>"
            ]
          },
          "metadata": {
            "needs_background": "light"
          }
        }
      ]
    },
    {
      "cell_type": "code",
      "source": [
        "from sklearn import metrics\n",
        "print(metrics.classification_report(y_pred1, y_test))"
      ],
      "metadata": {
        "colab": {
          "base_uri": "https://localhost:8080/"
        },
        "id": "AEyFmnPewI3_",
        "outputId": "78645c19-7c98-4217-c1c7-d559044fcf25"
      },
      "execution_count": 140,
      "outputs": [
        {
          "output_type": "stream",
          "name": "stdout",
          "text": [
            "              precision    recall  f1-score   support\n",
            "\n",
            "           0       0.97      0.94      0.96       197\n",
            "           1       0.94      0.97      0.96       195\n",
            "\n",
            "    accuracy                           0.96       392\n",
            "   macro avg       0.96      0.96      0.96       392\n",
            "weighted avg       0.96      0.96      0.96       392\n",
            "\n"
          ]
        }
      ]
    }
  ]
}